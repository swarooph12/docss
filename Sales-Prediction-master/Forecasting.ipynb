{
 "cells": [
  {
   "cell_type": "code",
   "execution_count": 1,
   "metadata": {},
   "outputs": [
    {
     "name": "stderr",
     "output_type": "stream",
     "text": [
      "Using TensorFlow backend.\n"
     ]
    }
   ],
   "source": [
    "#Loading all the relevant libraries\n",
    "import pandas as pd\n",
    "import numpy as np\n",
    "import matplotlib.pyplot as plt\n",
    "import seaborn as sns\n",
    "from scipy import stats\n",
    "from sklearn.preprocessing import LabelEncoder,minmax_scale,PolynomialFeatures,StandardScaler,Normalizer\n",
    "from sklearn.model_selection import KFold,GridSearchCV,train_test_split\n",
    "import matplotlib.pyplot as plt\n",
    "from scipy.stats import itemfreq\n",
    "import seaborn as sns\n",
    "from sklearn import linear_model\n",
    "from sklearn.model_selection import cross_val_score\n",
    "from sklearn.linear_model import Lasso\n",
    "from sklearn.preprocessing import StandardScaler\n",
    "from sklearn.linear_model import LinearRegression, Ridge, LassoCV, ElasticNetCV\n",
    "from sklearn.metrics import mean_squared_error, make_scorer\n",
    "#from sklearn.model_selection import train_test_split\n",
    "%matplotlib inline\n",
    "import datetime\n",
    "from datetime import date, timedelta\n",
    "from sklearn.tree import DecisionTreeRegressor\n",
    "from sklearn.metrics import r2_score\n",
    "from sklearn.metrics import mean_squared_error\n",
    "from sklearn.ensemble import ExtraTreesRegressor\n",
    "from sklearn.ensemble import RandomForestRegressor\n",
    "from sklearn.model_selection import GridSearchCV\n",
    "from sklearn.ensemble import GradientBoostingRegressor\n",
    "from xgboost import XGBRegressor\n",
    "import keras\n",
    "import sys\n",
    "from keras.layers.core import Dense, Dropout, Activation\n",
    "from keras.models import Sequential\n",
    "from keras.layers.core import Dense, Dropout, Activation\n",
    "import lightgbm as lgb"
   ]
  },
  {
   "cell_type": "markdown",
   "metadata": {},
   "source": [
    "# 3.a. Data Loading"
   ]
  },
  {
   "cell_type": "code",
   "execution_count": 2,
   "metadata": {},
   "outputs": [],
   "source": [
    "#Loading the data\n",
    "dtypes = {'store_nbr': np.dtype('int64'),\n",
    "          'item_nbr': np.dtype('int64'),\n",
    "          'unit_sales': np.dtype('float64'),\n",
    "          'onpromotion': np.dtype('O')}\n",
    "\n",
    "Sales = pd.read_csv('train.csv', dtype=dtypes)\n",
    "#test = pd.read_csv('test.csv', dtype=dtypes)\n",
    "#stores = pd.read_csv('stores.csv')\n",
    "#items = pd.read_csv('items.csv')\n",
    "#trans = pd.read_csv('transactions.csv')\n",
    "#oil = pd.read_csv('../input/oil.csv') #we upload this database later\n",
    "#holidays = pd.read_csv('holidays_events.csv')\n"
   ]
  },
  {
   "cell_type": "code",
   "execution_count": 3,
   "metadata": {},
   "outputs": [
    {
     "data": {
      "text/plain": [
       "3359566"
      ]
     },
     "execution_count": 3,
     "metadata": {},
     "output_type": "execute_result"
    }
   ],
   "source": [
    "#sampling the data, since the data is too huge to carry put any operations\n",
    "date_mask = (Sales['date'] >= '2017-07-15') & (Sales['date'] <= '2017-08-15')\n",
    "\n",
    "Salesdf = Sales[date_mask]\n",
    "\n",
    "#Print the size\n",
    "len(Salesdf)"
   ]
  },
  {
   "cell_type": "markdown",
   "metadata": {},
   "source": [
    "# 5. Data Blending"
   ]
  },
  {
   "cell_type": "code",
   "execution_count": 4,
   "metadata": {},
   "outputs": [],
   "source": [
    "test = pd.read_csv('test.csv', dtype=dtypes)\n",
    "#stores = pd.read_csv('stores.csv')\n",
    "items = pd.read_csv('items.csv')\n",
    "#trans = pd.read_csv('transactions.csv')\n",
    "#holidays = pd.read_csv('holidays_events.csv')"
   ]
  },
  {
   "cell_type": "code",
   "execution_count": 5,
   "metadata": {},
   "outputs": [
    {
     "data": {
      "text/html": [
       "<div>\n",
       "<style scoped>\n",
       "    .dataframe tbody tr th:only-of-type {\n",
       "        vertical-align: middle;\n",
       "    }\n",
       "\n",
       "    .dataframe tbody tr th {\n",
       "        vertical-align: top;\n",
       "    }\n",
       "\n",
       "    .dataframe thead th {\n",
       "        text-align: right;\n",
       "    }\n",
       "</style>\n",
       "<table border=\"1\" class=\"dataframe\">\n",
       "  <thead>\n",
       "    <tr style=\"text-align: right;\">\n",
       "      <th></th>\n",
       "      <th>date</th>\n",
       "      <th>store_nbr</th>\n",
       "      <th>item_nbr</th>\n",
       "      <th>unit_sales</th>\n",
       "      <th>onpromotion</th>\n",
       "      <th>family</th>\n",
       "    </tr>\n",
       "  </thead>\n",
       "  <tbody>\n",
       "    <tr>\n",
       "      <th>0</th>\n",
       "      <td>2017-07-15</td>\n",
       "      <td>1</td>\n",
       "      <td>99197</td>\n",
       "      <td>2.0</td>\n",
       "      <td>False</td>\n",
       "      <td>GROCERY I</td>\n",
       "    </tr>\n",
       "    <tr>\n",
       "      <th>1</th>\n",
       "      <td>2017-07-15</td>\n",
       "      <td>1</td>\n",
       "      <td>103520</td>\n",
       "      <td>1.0</td>\n",
       "      <td>False</td>\n",
       "      <td>GROCERY I</td>\n",
       "    </tr>\n",
       "    <tr>\n",
       "      <th>2</th>\n",
       "      <td>2017-07-15</td>\n",
       "      <td>1</td>\n",
       "      <td>105574</td>\n",
       "      <td>6.0</td>\n",
       "      <td>False</td>\n",
       "      <td>GROCERY I</td>\n",
       "    </tr>\n",
       "    <tr>\n",
       "      <th>3</th>\n",
       "      <td>2017-07-15</td>\n",
       "      <td>1</td>\n",
       "      <td>105575</td>\n",
       "      <td>10.0</td>\n",
       "      <td>False</td>\n",
       "      <td>GROCERY I</td>\n",
       "    </tr>\n",
       "    <tr>\n",
       "      <th>4</th>\n",
       "      <td>2017-07-15</td>\n",
       "      <td>1</td>\n",
       "      <td>105737</td>\n",
       "      <td>3.0</td>\n",
       "      <td>False</td>\n",
       "      <td>GROCERY I</td>\n",
       "    </tr>\n",
       "    <tr>\n",
       "      <th>...</th>\n",
       "      <td>...</td>\n",
       "      <td>...</td>\n",
       "      <td>...</td>\n",
       "      <td>...</td>\n",
       "      <td>...</td>\n",
       "      <td>...</td>\n",
       "    </tr>\n",
       "    <tr>\n",
       "      <th>3359561</th>\n",
       "      <td>2017-08-15</td>\n",
       "      <td>54</td>\n",
       "      <td>2089339</td>\n",
       "      <td>4.0</td>\n",
       "      <td>False</td>\n",
       "      <td>GROCERY I</td>\n",
       "    </tr>\n",
       "    <tr>\n",
       "      <th>3359562</th>\n",
       "      <td>2017-08-15</td>\n",
       "      <td>54</td>\n",
       "      <td>2106464</td>\n",
       "      <td>1.0</td>\n",
       "      <td>True</td>\n",
       "      <td>BEVERAGES</td>\n",
       "    </tr>\n",
       "    <tr>\n",
       "      <th>3359563</th>\n",
       "      <td>2017-08-15</td>\n",
       "      <td>54</td>\n",
       "      <td>2110456</td>\n",
       "      <td>192.0</td>\n",
       "      <td>False</td>\n",
       "      <td>BEVERAGES</td>\n",
       "    </tr>\n",
       "    <tr>\n",
       "      <th>3359564</th>\n",
       "      <td>2017-08-15</td>\n",
       "      <td>54</td>\n",
       "      <td>2113914</td>\n",
       "      <td>198.0</td>\n",
       "      <td>True</td>\n",
       "      <td>CLEANING</td>\n",
       "    </tr>\n",
       "    <tr>\n",
       "      <th>3359565</th>\n",
       "      <td>2017-08-15</td>\n",
       "      <td>54</td>\n",
       "      <td>2116416</td>\n",
       "      <td>2.0</td>\n",
       "      <td>False</td>\n",
       "      <td>GROCERY I</td>\n",
       "    </tr>\n",
       "  </tbody>\n",
       "</table>\n",
       "<p>3359566 rows × 6 columns</p>\n",
       "</div>"
      ],
      "text/plain": [
       "               date  store_nbr  item_nbr  unit_sales onpromotion     family\n",
       "0        2017-07-15          1     99197         2.0       False  GROCERY I\n",
       "1        2017-07-15          1    103520         1.0       False  GROCERY I\n",
       "2        2017-07-15          1    105574         6.0       False  GROCERY I\n",
       "3        2017-07-15          1    105575        10.0       False  GROCERY I\n",
       "4        2017-07-15          1    105737         3.0       False  GROCERY I\n",
       "...             ...        ...       ...         ...         ...        ...\n",
       "3359561  2017-08-15         54   2089339         4.0       False  GROCERY I\n",
       "3359562  2017-08-15         54   2106464         1.0        True  BEVERAGES\n",
       "3359563  2017-08-15         54   2110456       192.0       False  BEVERAGES\n",
       "3359564  2017-08-15         54   2113914       198.0        True   CLEANING\n",
       "3359565  2017-08-15         54   2116416         2.0       False  GROCERY I\n",
       "\n",
       "[3359566 rows x 6 columns]"
      ]
     },
     "execution_count": 5,
     "metadata": {},
     "output_type": "execute_result"
    }
   ],
   "source": [
    "#Merge train\n",
    "Salesdf = Salesdf.drop('id', axis = 1)\n",
    "#Salesdf = Salesdf.merge(stores, left_on='store_nbr', right_on='store_nbr', how='left')\n",
    "Salesdf = Salesdf.merge(items, left_on='item_nbr', right_on='item_nbr', how='left')\n",
    "#Salesdf = Salesdf.merge(holidays, left_on='date', right_on='date', how='left')\n",
    "#Salesdf = Salesdf.merge(oil, left_on='date', right_on='date', how='left')\n",
    "\n",
    "Salesdf"
   ]
  },
  {
   "cell_type": "code",
   "execution_count": 6,
   "metadata": {},
   "outputs": [],
   "source": [
    "Salesdf = Salesdf.drop(['onpromotion','store_nbr'], axis = 1)"
   ]
  },
  {
   "cell_type": "code",
   "execution_count": 7,
   "metadata": {},
   "outputs": [
    {
     "name": "stdout",
     "output_type": "stream",
     "text": [
      "<class 'pandas.core.frame.DataFrame'>\n",
      "Int64Index: 3359566 entries, 0 to 3359565\n",
      "Data columns (total 4 columns):\n",
      "date          object\n",
      "item_nbr      int64\n",
      "unit_sales    float64\n",
      "family        object\n",
      "dtypes: float64(1), int64(1), object(2)\n",
      "memory usage: 128.2+ MB\n"
     ]
    }
   ],
   "source": [
    "Salesdf.info()"
   ]
  },
  {
   "cell_type": "code",
   "execution_count": 8,
   "metadata": {},
   "outputs": [
    {
     "data": {
      "text/plain": [
       "family        0\n",
       "unit_sales    0\n",
       "item_nbr      0\n",
       "date          0\n",
       "dtype: int64"
      ]
     },
     "execution_count": 8,
     "metadata": {},
     "output_type": "execute_result"
    }
   ],
   "source": [
    "Salesdf.isnull().sum().sort_values(ascending=False)"
   ]
  },
  {
   "cell_type": "code",
   "execution_count": 9,
   "metadata": {},
   "outputs": [
    {
     "name": "stdout",
     "output_type": "stream",
     "text": [
      "Shape :  (3359566, 4) \n",
      "\n",
      "Type :  \n",
      " date           object\n",
      "item_nbr        int64\n",
      "unit_sales    float64\n",
      "family         object\n",
      "dtype: object\n"
     ]
    },
    {
     "data": {
      "text/html": [
       "<div>\n",
       "<style scoped>\n",
       "    .dataframe tbody tr th:only-of-type {\n",
       "        vertical-align: middle;\n",
       "    }\n",
       "\n",
       "    .dataframe tbody tr th {\n",
       "        vertical-align: top;\n",
       "    }\n",
       "\n",
       "    .dataframe thead th {\n",
       "        text-align: right;\n",
       "    }\n",
       "</style>\n",
       "<table border=\"1\" class=\"dataframe\">\n",
       "  <thead>\n",
       "    <tr style=\"text-align: right;\">\n",
       "      <th></th>\n",
       "      <th>item_nbr</th>\n",
       "      <th>unit_sales</th>\n",
       "    </tr>\n",
       "  </thead>\n",
       "  <tbody>\n",
       "    <tr>\n",
       "      <th>count</th>\n",
       "      <td>3.359566e+06</td>\n",
       "      <td>3.359566e+06</td>\n",
       "    </tr>\n",
       "    <tr>\n",
       "      <th>mean</th>\n",
       "      <td>1.171591e+06</td>\n",
       "      <td>8.053185e+00</td>\n",
       "    </tr>\n",
       "    <tr>\n",
       "      <th>std</th>\n",
       "      <td>5.871905e+05</td>\n",
       "      <td>2.371664e+01</td>\n",
       "    </tr>\n",
       "    <tr>\n",
       "      <th>min</th>\n",
       "      <td>9.699500e+04</td>\n",
       "      <td>-2.410000e+02</td>\n",
       "    </tr>\n",
       "    <tr>\n",
       "      <th>25%</th>\n",
       "      <td>6.925310e+05</td>\n",
       "      <td>2.000000e+00</td>\n",
       "    </tr>\n",
       "    <tr>\n",
       "      <th>50%</th>\n",
       "      <td>1.212452e+06</td>\n",
       "      <td>4.000000e+00</td>\n",
       "    </tr>\n",
       "    <tr>\n",
       "      <th>75%</th>\n",
       "      <td>1.583407e+06</td>\n",
       "      <td>8.000000e+00</td>\n",
       "    </tr>\n",
       "    <tr>\n",
       "      <th>max</th>\n",
       "      <td>2.127114e+06</td>\n",
       "      <td>5.901000e+03</td>\n",
       "    </tr>\n",
       "  </tbody>\n",
       "</table>\n",
       "</div>"
      ],
      "text/plain": [
       "           item_nbr    unit_sales\n",
       "count  3.359566e+06  3.359566e+06\n",
       "mean   1.171591e+06  8.053185e+00\n",
       "std    5.871905e+05  2.371664e+01\n",
       "min    9.699500e+04 -2.410000e+02\n",
       "25%    6.925310e+05  2.000000e+00\n",
       "50%    1.212452e+06  4.000000e+00\n",
       "75%    1.583407e+06  8.000000e+00\n",
       "max    2.127114e+06  5.901000e+03"
      ]
     },
     "execution_count": 9,
     "metadata": {},
     "output_type": "execute_result"
    }
   ],
   "source": [
    "#Shape\n",
    "print('Shape : ', Salesdf.shape, '\\n')\n",
    "\n",
    "#Type\n",
    "print('Type : ', '\\n', Salesdf.dtypes)\n",
    "\n",
    "#Summary\n",
    "Salesdf.describe()"
   ]
  },
  {
   "cell_type": "code",
   "execution_count": 10,
   "metadata": {},
   "outputs": [
    {
     "data": {
      "text/html": [
       "<div>\n",
       "<style scoped>\n",
       "    .dataframe tbody tr th:only-of-type {\n",
       "        vertical-align: middle;\n",
       "    }\n",
       "\n",
       "    .dataframe tbody tr th {\n",
       "        vertical-align: top;\n",
       "    }\n",
       "\n",
       "    .dataframe thead th {\n",
       "        text-align: right;\n",
       "    }\n",
       "</style>\n",
       "<table border=\"1\" class=\"dataframe\">\n",
       "  <thead>\n",
       "    <tr style=\"text-align: right;\">\n",
       "      <th></th>\n",
       "      <th>date</th>\n",
       "      <th>item_nbr</th>\n",
       "      <th>unit_sales</th>\n",
       "      <th>family</th>\n",
       "    </tr>\n",
       "  </thead>\n",
       "  <tbody>\n",
       "    <tr>\n",
       "      <th>3329080</th>\n",
       "      <td>2017-08-15</td>\n",
       "      <td>1289418</td>\n",
       "      <td>1.000</td>\n",
       "      <td>GROCERY I</td>\n",
       "    </tr>\n",
       "    <tr>\n",
       "      <th>1373488</th>\n",
       "      <td>2017-07-28</td>\n",
       "      <td>1457202</td>\n",
       "      <td>6.000</td>\n",
       "      <td>HOME CARE</td>\n",
       "    </tr>\n",
       "    <tr>\n",
       "      <th>711725</th>\n",
       "      <td>2017-07-21</td>\n",
       "      <td>360705</td>\n",
       "      <td>2.000</td>\n",
       "      <td>GROCERY I</td>\n",
       "    </tr>\n",
       "    <tr>\n",
       "      <th>26160</th>\n",
       "      <td>2017-07-15</td>\n",
       "      <td>365264</td>\n",
       "      <td>2.000</td>\n",
       "      <td>CLEANING</td>\n",
       "    </tr>\n",
       "    <tr>\n",
       "      <th>1788631</th>\n",
       "      <td>2017-08-01</td>\n",
       "      <td>121964</td>\n",
       "      <td>1.000</td>\n",
       "      <td>AUTOMOTIVE</td>\n",
       "    </tr>\n",
       "    <tr>\n",
       "      <th>1566383</th>\n",
       "      <td>2017-07-29</td>\n",
       "      <td>1473481</td>\n",
       "      <td>8.858</td>\n",
       "      <td>PRODUCE</td>\n",
       "    </tr>\n",
       "    <tr>\n",
       "      <th>1595634</th>\n",
       "      <td>2017-07-30</td>\n",
       "      <td>1229625</td>\n",
       "      <td>2.000</td>\n",
       "      <td>PERSONAL CARE</td>\n",
       "    </tr>\n",
       "    <tr>\n",
       "      <th>1271014</th>\n",
       "      <td>2017-07-27</td>\n",
       "      <td>1913257</td>\n",
       "      <td>5.000</td>\n",
       "      <td>CLEANING</td>\n",
       "    </tr>\n",
       "    <tr>\n",
       "      <th>3289115</th>\n",
       "      <td>2017-08-15</td>\n",
       "      <td>750856</td>\n",
       "      <td>1.000</td>\n",
       "      <td>GROCERY I</td>\n",
       "    </tr>\n",
       "    <tr>\n",
       "      <th>2795312</th>\n",
       "      <td>2017-08-10</td>\n",
       "      <td>211999</td>\n",
       "      <td>2.000</td>\n",
       "      <td>GROCERY I</td>\n",
       "    </tr>\n",
       "  </tbody>\n",
       "</table>\n",
       "</div>"
      ],
      "text/plain": [
       "               date  item_nbr  unit_sales         family\n",
       "3329080  2017-08-15   1289418       1.000      GROCERY I\n",
       "1373488  2017-07-28   1457202       6.000      HOME CARE\n",
       "711725   2017-07-21    360705       2.000      GROCERY I\n",
       "26160    2017-07-15    365264       2.000       CLEANING\n",
       "1788631  2017-08-01    121964       1.000     AUTOMOTIVE\n",
       "1566383  2017-07-29   1473481       8.858        PRODUCE\n",
       "1595634  2017-07-30   1229625       2.000  PERSONAL CARE\n",
       "1271014  2017-07-27   1913257       5.000       CLEANING\n",
       "3289115  2017-08-15    750856       1.000      GROCERY I\n",
       "2795312  2017-08-10    211999       2.000      GROCERY I"
      ]
     },
     "execution_count": 10,
     "metadata": {},
     "output_type": "execute_result"
    }
   ],
   "source": [
    "#5 random lines\n",
    "Salesdf.sample(10)"
   ]
  },
  {
   "cell_type": "code",
   "execution_count": 11,
   "metadata": {},
   "outputs": [
    {
     "data": {
      "text/plain": [
       "[Text(0, 0, 'GROCERY I'),\n",
       " Text(0, 0, 'DELI'),\n",
       " Text(0, 0, 'CLEANING'),\n",
       " Text(0, 0, 'PERSONAL CARE'),\n",
       " Text(0, 0, 'BEVERAGES'),\n",
       " Text(0, 0, 'DAIRY'),\n",
       " Text(0, 0, 'EGGS'),\n",
       " Text(0, 0, 'BREAD/BAKERY'),\n",
       " Text(0, 0, 'POULTRY'),\n",
       " Text(0, 0, 'GROCERY II'),\n",
       " Text(0, 0, 'LINGERIE'),\n",
       " Text(0, 0, 'MEATS'),\n",
       " Text(0, 0, 'FROZEN FOODS'),\n",
       " Text(0, 0, 'SEAFOOD'),\n",
       " Text(0, 0, 'LIQUOR,WINE,BEER'),\n",
       " Text(0, 0, 'HARDWARE'),\n",
       " Text(0, 0, 'LAWN AND GARDEN'),\n",
       " Text(0, 0, 'AUTOMOTIVE'),\n",
       " Text(0, 0, 'PRODUCE'),\n",
       " Text(0, 0, 'HOME AND KITCHEN II'),\n",
       " Text(0, 0, 'HOME AND KITCHEN I'),\n",
       " Text(0, 0, 'HOME CARE'),\n",
       " Text(0, 0, 'PET SUPPLIES'),\n",
       " Text(0, 0, 'CELEBRATION'),\n",
       " Text(0, 0, 'PLAYERS AND ELECTRONICS'),\n",
       " Text(0, 0, 'LADIESWEAR'),\n",
       " Text(0, 0, 'MAGAZINES'),\n",
       " Text(0, 0, 'PREPARED FOODS'),\n",
       " Text(0, 0, 'BEAUTY'),\n",
       " Text(0, 0, 'HOME APPLIANCES'),\n",
       " Text(0, 0, 'SCHOOL AND OFFICE SUPPLIES'),\n",
       " Text(0, 0, 'BABY CARE'),\n",
       " Text(0, 0, 'BOOKS')]"
      ]
     },
     "execution_count": 11,
     "metadata": {},
     "output_type": "execute_result"
    },
    {
     "data": {
      "image/png": "[encoded data removed]",
      "text/plain": [
       "<Figure size 720x1080 with 1 Axes>"
      ]
     },
     "metadata": {
      "needs_background": "light"
     },
     "output_type": "display_data"
    }
   ],
   "source": [
    "#sns.countplot(x='family', data=Salesdf);\n",
    "\n",
    "plt.figure(figsize=(10,15))\n",
    "chart = sns.countplot(\n",
    "    data=Salesdf,\n",
    "    x='family',\n",
    "    palette='Set2'\n",
    ")\n",
    "chart.set_xticklabels(chart.get_xticklabels(), rotation=45, horizontalalignment='right')"
   ]
  },
  {
   "cell_type": "markdown",
   "metadata": {},
   "source": [
    "# The the above plot shows the number of categories."
   ]
  },
  {
   "cell_type": "code",
   "execution_count": 12,
   "metadata": {
    "scrolled": true
   },
   "outputs": [
    {
     "data": {
      "text/plain": [
       "<bound method Series.unique of 0            99197\n",
       "1           103520\n",
       "2           105574\n",
       "3           105575\n",
       "4           105737\n",
       "            ...   \n",
       "3359561    2089339\n",
       "3359562    2106464\n",
       "3359563    2110456\n",
       "3359564    2113914\n",
       "3359565    2116416\n",
       "Name: item_nbr, Length: 3359566, dtype: int64>"
      ]
     },
     "execution_count": 12,
     "metadata": {},
     "output_type": "execute_result"
    }
   ],
   "source": [
    "Salesdf.item_nbr.unique"
   ]
  },
  {
   "cell_type": "code",
   "execution_count": 13,
   "metadata": {},
   "outputs": [
    {
     "name": "stderr",
     "output_type": "stream",
     "text": [
      "c:\\users\\user\\appdata\\local\\programs\\python\\python37\\lib\\site-packages\\ipykernel_launcher.py:1: DeprecationWarning: `itemfreq` is deprecated!\n",
      "`itemfreq` is deprecated and will be removed in a future version. Use instead `np.unique(..., return_counts=True)`\n",
      "  \"\"\"Entry point for launching an IPython kernel.\n"
     ]
    },
    {
     "data": {
      "text/plain": [
       "array([[2042947,    1726],\n",
       "       [ 502331,    1724],\n",
       "       [ 314384,    1723],\n",
       "       ...,\n",
       "       [1981370,       1],\n",
       "       [1418842,       1],\n",
       "       [1066900,       1]], dtype=int64)"
      ]
     },
     "execution_count": 13,
     "metadata": {},
     "output_type": "execute_result"
    }
   ],
   "source": [
    "x=itemfreq(Salesdf.item_nbr)\n",
    "x=x[x[:,1].argsort()[::-1]]\n",
    "x"
   ]
  },
  {
   "cell_type": "code",
   "execution_count": 14,
   "metadata": {},
   "outputs": [
    {
     "data": {
      "text/plain": [
       "array([2042947,  502331,  314384,  323013,  364606,  222879, 2042941,\n",
       "        414750, 1162382, 1418845], dtype=int64)"
      ]
     },
     "execution_count": 14,
     "metadata": {},
     "output_type": "execute_result"
    }
   ],
   "source": [
    "x[:,0][0:10]"
   ]
  },
  {
   "cell_type": "code",
   "execution_count": 15,
   "metadata": {},
   "outputs": [
    {
     "name": "stderr",
     "output_type": "stream",
     "text": [
      "c:\\users\\user\\appdata\\local\\programs\\python\\python37\\lib\\site-packages\\ipykernel_launcher.py:1: FutureWarning: Method .as_matrix will be removed in a future version. Use .values instead.\n",
      "  \"\"\"Entry point for launching an IPython kernel.\n"
     ]
    },
    {
     "data": {
      "text/plain": [
       "array([  99197,  103520,  105574, ..., 2110456, 2113914, 2116416],\n",
       "      dtype=int64)"
      ]
     },
     "execution_count": 15,
     "metadata": {},
     "output_type": "execute_result"
    }
   ],
   "source": [
    "s=Salesdf.item_nbr.as_matrix()\n",
    "s"
   ]
  },
  {
   "cell_type": "code",
   "execution_count": 16,
   "metadata": {},
   "outputs": [
    {
     "data": {
      "text/plain": [
       "array([[  99197],\n",
       "       [ 103520],\n",
       "       [ 105574],\n",
       "       ...,\n",
       "       [2110456],\n",
       "       [2113914],\n",
       "       [2116416]], dtype=int64)"
      ]
     },
     "execution_count": 16,
     "metadata": {},
     "output_type": "execute_result"
    }
   ],
   "source": [
    "t=s.reshape(s.shape[0],1)\n",
    "t"
   ]
  },
  {
   "cell_type": "code",
   "execution_count": 17,
   "metadata": {},
   "outputs": [
    {
     "name": "stderr",
     "output_type": "stream",
     "text": [
      "c:\\users\\user\\appdata\\local\\programs\\python\\python37\\lib\\site-packages\\ipykernel_launcher.py:1: DeprecationWarning: elementwise comparison failed; this will raise an error in the future.\n",
      "  \"\"\"Entry point for launching an IPython kernel.\n"
     ]
    },
    {
     "data": {
      "text/plain": [
       "(array([], dtype=int64),)"
      ]
     },
     "execution_count": 17,
     "metadata": {},
     "output_type": "execute_result"
    }
   ],
   "source": [
    "t1=np.where(t==x)\n",
    "t1"
   ]
  },
  {
   "cell_type": "markdown",
   "metadata": {},
   "source": [
    "# 6. Product Purchase Trend"
   ]
  },
  {
   "cell_type": "markdown",
   "metadata": {},
   "source": [
    "##  6.a. Fetching the N most purchased products"
   ]
  },
  {
   "cell_type": "code",
   "execution_count": 18,
   "metadata": {
    "scrolled": true
   },
   "outputs": [
    {
     "name": "stderr",
     "output_type": "stream",
     "text": [
      "c:\\users\\user\\appdata\\local\\programs\\python\\python37\\lib\\site-packages\\ipykernel_launcher.py:3: DeprecationWarning: `itemfreq` is deprecated!\n",
      "`itemfreq` is deprecated and will be removed in a future version. Use instead `np.unique(..., return_counts=True)`\n",
      "  This is separate from the ipykernel package so we can avoid doing imports until\n",
      "c:\\users\\user\\appdata\\local\\programs\\python\\python37\\lib\\site-packages\\ipykernel_launcher.py:11: FutureWarning: Method .as_matrix will be removed in a future version. Use .values instead.\n",
      "  # This is added back by InteractiveShellApp.init_path()\n"
     ]
    },
    {
     "name": "stdout",
     "output_type": "stream",
     "text": [
      "labels_filtered_index[0].shape =  (34207,)\n"
     ]
    }
   ],
   "source": [
    "#Fetching the N most purchased products#\n",
    "def N_most_labels(data, variable , N , all='TRUE'):\n",
    "    labels_freq_pd = itemfreq(data[variable])\n",
    "    labels_freq_pd = labels_freq_pd[labels_freq_pd[:, 1].argsort()[::-1]] #[::-1] ==> to sort in descending order\n",
    "    \n",
    "    if all == 'FALSE':\n",
    "        main_labels = labels_freq_pd[:,0][0:N]\n",
    "    else: \n",
    "        main_labels = labels_freq_pd[:,0][:]\n",
    "        \n",
    "    labels_raw_np = data[variable].as_matrix() #transform in numpy\n",
    "    labels_raw_np = labels_raw_np.reshape(labels_raw_np.shape[0],1)\n",
    "\n",
    "    labels_filtered_index = np.where(labels_raw_np == main_labels)\n",
    "    \n",
    "    return labels_freq_pd, labels_filtered_index\n",
    "\n",
    "label_freq, labels_filtered_index = N_most_labels(data = Salesdf, variable = \"item_nbr\", N = 20, all='FALSE')\n",
    "print(\"labels_filtered_index[0].shape = \", labels_filtered_index[0].shape)\n",
    "\n",
    "Salesdf_filtered = Salesdf.loc[labels_filtered_index[0],:]\n"
   ]
  },
  {
   "cell_type": "markdown",
   "metadata": {},
   "source": [
    "The number of most purchased products gives us the idea of looking for the sales for those products."
   ]
  },
  {
   "cell_type": "markdown",
   "metadata": {},
   "source": [
    "The code in the document by Source Kaggle is licensed under the MIT License https://opensource.org/licenses/MIT"
   ]
  },
  {
   "cell_type": "code",
   "execution_count": 19,
   "metadata": {
    "scrolled": true
   },
   "outputs": [
    {
     "data": {
      "text/plain": [
       "array([[2042947,    1726],\n",
       "       [ 502331,    1724],\n",
       "       [ 314384,    1723],\n",
       "       [ 323013,    1722],\n",
       "       [ 364606,    1722],\n",
       "       [ 222879,    1720],\n",
       "       [2042941,    1719],\n",
       "       [ 414750,    1716],\n",
       "       [1162382,    1715],\n",
       "       [1418845,    1715]], dtype=int64)"
      ]
     },
     "execution_count": 19,
     "metadata": {},
     "output_type": "execute_result"
    }
   ],
   "source": [
    "label_freq[0:10]"
   ]
  },
  {
   "cell_type": "code",
   "execution_count": 20,
   "metadata": {
    "scrolled": true
   },
   "outputs": [
    {
     "data": {
      "text/html": [
       "<div>\n",
       "<style scoped>\n",
       "    .dataframe tbody tr th:only-of-type {\n",
       "        vertical-align: middle;\n",
       "    }\n",
       "\n",
       "    .dataframe tbody tr th {\n",
       "        vertical-align: top;\n",
       "    }\n",
       "\n",
       "    .dataframe thead th {\n",
       "        text-align: right;\n",
       "    }\n",
       "</style>\n",
       "<table border=\"1\" class=\"dataframe\">\n",
       "  <thead>\n",
       "    <tr style=\"text-align: right;\">\n",
       "      <th></th>\n",
       "      <th>date</th>\n",
       "      <th>item_nbr</th>\n",
       "      <th>unit_sales</th>\n",
       "      <th>family</th>\n",
       "    </tr>\n",
       "  </thead>\n",
       "  <tbody>\n",
       "    <tr>\n",
       "      <th>994258</th>\n",
       "      <td>2017-07-24</td>\n",
       "      <td>1036689</td>\n",
       "      <td>10.0</td>\n",
       "      <td>GROCERY I</td>\n",
       "    </tr>\n",
       "    <tr>\n",
       "      <th>3243885</th>\n",
       "      <td>2017-08-14</td>\n",
       "      <td>2042941</td>\n",
       "      <td>85.0</td>\n",
       "      <td>BEVERAGES</td>\n",
       "    </tr>\n",
       "    <tr>\n",
       "      <th>574646</th>\n",
       "      <td>2017-07-20</td>\n",
       "      <td>1463860</td>\n",
       "      <td>34.0</td>\n",
       "      <td>BEVERAGES</td>\n",
       "    </tr>\n",
       "  </tbody>\n",
       "</table>\n",
       "</div>"
      ],
      "text/plain": [
       "               date  item_nbr  unit_sales     family\n",
       "994258   2017-07-24   1036689        10.0  GROCERY I\n",
       "3243885  2017-08-14   2042941        85.0  BEVERAGES\n",
       "574646   2017-07-20   1463860        34.0  BEVERAGES"
      ]
     },
     "execution_count": 20,
     "metadata": {},
     "output_type": "execute_result"
    }
   ],
   "source": [
    "Salesdf_filtered.sample(3)"
   ]
  },
  {
   "cell_type": "code",
   "execution_count": 21,
   "metadata": {},
   "outputs": [],
   "source": [
    "def get_month_year(df):\n",
    "    df['month'] = df.date.apply(lambda x: x.split('-')[1])\n",
    "    df['year'] = df.date.apply(lambda x: x.split('-')[0])\n",
    "    \n",
    "    return df\n",
    "\n",
    "get_month_year(Salesdf_filtered);"
   ]
  },
  {
   "cell_type": "code",
   "execution_count": 22,
   "metadata": {},
   "outputs": [],
   "source": [
    "Salesdf_filtered['date'] = pd.to_datetime(Salesdf_filtered['date'])\n",
    "Salesdf_filtered['day'] = Salesdf_filtered['date'].dt.weekday_name\n",
    "Salesdf_filtered = Salesdf_filtered.drop('date', axis=1)"
   ]
  },
  {
   "cell_type": "code",
   "execution_count": 23,
   "metadata": {},
   "outputs": [
    {
     "data": {
      "text/html": [
       "<div>\n",
       "<style scoped>\n",
       "    .dataframe tbody tr th:only-of-type {\n",
       "        vertical-align: middle;\n",
       "    }\n",
       "\n",
       "    .dataframe tbody tr th {\n",
       "        vertical-align: top;\n",
       "    }\n",
       "\n",
       "    .dataframe thead th {\n",
       "        text-align: right;\n",
       "    }\n",
       "</style>\n",
       "<table border=\"1\" class=\"dataframe\">\n",
       "  <thead>\n",
       "    <tr style=\"text-align: right;\">\n",
       "      <th></th>\n",
       "      <th>item_nbr</th>\n",
       "      <th>unit_sales</th>\n",
       "      <th>family</th>\n",
       "      <th>month</th>\n",
       "      <th>year</th>\n",
       "      <th>day</th>\n",
       "    </tr>\n",
       "  </thead>\n",
       "  <tbody>\n",
       "    <tr>\n",
       "      <th>2054310</th>\n",
       "      <td>2010511</td>\n",
       "      <td>5.0</td>\n",
       "      <td>GROCERY I</td>\n",
       "      <td>08</td>\n",
       "      <td>2017</td>\n",
       "      <td>Thursday</td>\n",
       "    </tr>\n",
       "    <tr>\n",
       "      <th>2739863</th>\n",
       "      <td>414750</td>\n",
       "      <td>17.0</td>\n",
       "      <td>GROCERY I</td>\n",
       "      <td>08</td>\n",
       "      <td>2017</td>\n",
       "      <td>Thursday</td>\n",
       "    </tr>\n",
       "    <tr>\n",
       "      <th>2532689</th>\n",
       "      <td>1052563</td>\n",
       "      <td>28.0</td>\n",
       "      <td>GROCERY I</td>\n",
       "      <td>08</td>\n",
       "      <td>2017</td>\n",
       "      <td>Monday</td>\n",
       "    </tr>\n",
       "    <tr>\n",
       "      <th>352788</th>\n",
       "      <td>1958216</td>\n",
       "      <td>10.0</td>\n",
       "      <td>BEVERAGES</td>\n",
       "      <td>07</td>\n",
       "      <td>2017</td>\n",
       "      <td>Tuesday</td>\n",
       "    </tr>\n",
       "    <tr>\n",
       "      <th>1406690</th>\n",
       "      <td>1418845</td>\n",
       "      <td>8.0</td>\n",
       "      <td>GROCERY I</td>\n",
       "      <td>07</td>\n",
       "      <td>2017</td>\n",
       "      <td>Friday</td>\n",
       "    </tr>\n",
       "    <tr>\n",
       "      <th>2109841</th>\n",
       "      <td>261052</td>\n",
       "      <td>13.0</td>\n",
       "      <td>GROCERY I</td>\n",
       "      <td>08</td>\n",
       "      <td>2017</td>\n",
       "      <td>Friday</td>\n",
       "    </tr>\n",
       "    <tr>\n",
       "      <th>1478209</th>\n",
       "      <td>265559</td>\n",
       "      <td>98.0</td>\n",
       "      <td>GROCERY I</td>\n",
       "      <td>07</td>\n",
       "      <td>2017</td>\n",
       "      <td>Saturday</td>\n",
       "    </tr>\n",
       "    <tr>\n",
       "      <th>17283</th>\n",
       "      <td>1162382</td>\n",
       "      <td>15.0</td>\n",
       "      <td>GROCERY I</td>\n",
       "      <td>07</td>\n",
       "      <td>2017</td>\n",
       "      <td>Saturday</td>\n",
       "    </tr>\n",
       "    <tr>\n",
       "      <th>2834992</th>\n",
       "      <td>2042947</td>\n",
       "      <td>109.0</td>\n",
       "      <td>BEVERAGES</td>\n",
       "      <td>08</td>\n",
       "      <td>2017</td>\n",
       "      <td>Thursday</td>\n",
       "    </tr>\n",
       "    <tr>\n",
       "      <th>1320412</th>\n",
       "      <td>265559</td>\n",
       "      <td>17.0</td>\n",
       "      <td>GROCERY I</td>\n",
       "      <td>07</td>\n",
       "      <td>2017</td>\n",
       "      <td>Thursday</td>\n",
       "    </tr>\n",
       "  </tbody>\n",
       "</table>\n",
       "</div>"
      ],
      "text/plain": [
       "         item_nbr  unit_sales     family month  year       day\n",
       "2054310   2010511         5.0  GROCERY I    08  2017  Thursday\n",
       "2739863    414750        17.0  GROCERY I    08  2017  Thursday\n",
       "2532689   1052563        28.0  GROCERY I    08  2017    Monday\n",
       "352788    1958216        10.0  BEVERAGES    07  2017   Tuesday\n",
       "1406690   1418845         8.0  GROCERY I    07  2017    Friday\n",
       "2109841    261052        13.0  GROCERY I    08  2017    Friday\n",
       "1478209    265559        98.0  GROCERY I    07  2017  Saturday\n",
       "17283     1162382        15.0  GROCERY I    07  2017  Saturday\n",
       "2834992   2042947       109.0  BEVERAGES    08  2017  Thursday\n",
       "1320412    265559        17.0  GROCERY I    07  2017  Thursday"
      ]
     },
     "execution_count": 23,
     "metadata": {},
     "output_type": "execute_result"
    }
   ],
   "source": [
    "Salesdf_filtered.sample(10)"
   ]
  },
  {
   "cell_type": "code",
   "execution_count": 24,
   "metadata": {},
   "outputs": [],
   "source": [
    "strain = Salesdf.sample(frac=0.01,replace=True)"
   ]
  },
  {
   "cell_type": "markdown",
   "metadata": {},
   "source": [
    "# 7. Exploratory Data Analysis"
   ]
  },
  {
   "cell_type": "code",
   "execution_count": 25,
   "metadata": {},
   "outputs": [
    {
     "data": {
      "text/plain": [
       "[Text(0, 0, 'GROCERY I'),\n",
       " Text(0, 0, 'DELI'),\n",
       " Text(0, 0, 'CLEANING'),\n",
       " Text(0, 0, 'PERSONAL CARE'),\n",
       " Text(0, 0, 'BEVERAGES'),\n",
       " Text(0, 0, 'DAIRY'),\n",
       " Text(0, 0, 'EGGS'),\n",
       " Text(0, 0, 'BREAD/BAKERY'),\n",
       " Text(0, 0, 'POULTRY'),\n",
       " Text(0, 0, 'GROCERY II'),\n",
       " Text(0, 0, 'LINGERIE'),\n",
       " Text(0, 0, 'MEATS'),\n",
       " Text(0, 0, 'FROZEN FOODS'),\n",
       " Text(0, 0, 'SEAFOOD'),\n",
       " Text(0, 0, 'LIQUOR,WINE,BEER'),\n",
       " Text(0, 0, 'HARDWARE'),\n",
       " Text(0, 0, 'LAWN AND GARDEN'),\n",
       " Text(0, 0, 'AUTOMOTIVE'),\n",
       " Text(0, 0, 'PRODUCE'),\n",
       " Text(0, 0, 'HOME AND KITCHEN II'),\n",
       " Text(0, 0, 'HOME AND KITCHEN I'),\n",
       " Text(0, 0, 'HOME CARE'),\n",
       " Text(0, 0, 'PET SUPPLIES'),\n",
       " Text(0, 0, 'CELEBRATION'),\n",
       " Text(0, 0, 'PLAYERS AND ELECTRONICS'),\n",
       " Text(0, 0, 'LADIESWEAR'),\n",
       " Text(0, 0, 'MAGAZINES'),\n",
       " Text(0, 0, 'PREPARED FOODS'),\n",
       " Text(0, 0, 'BEAUTY'),\n",
       " Text(0, 0, 'HOME APPLIANCES'),\n",
       " Text(0, 0, 'SCHOOL AND OFFICE SUPPLIES'),\n",
       " Text(0, 0, 'BABY CARE'),\n",
       " Text(0, 0, 'BOOKS')]"
      ]
     },
     "execution_count": 25,
     "metadata": {},
     "output_type": "execute_result"
    },
    {
     "data": {
      "image/png": "[encoded data removed]",
      "text/plain": [
       "<Figure size 2160x288 with 1 Axes>"
      ]
     },
     "metadata": {
      "needs_background": "light"
     },
     "output_type": "display_data"
    }
   ],
   "source": [
    "# Plotting Sales per Item Family\n",
    "#fig, (axis1) = plt.subplots(1,1,figsize=(30,4))\n",
    "#sns.barplot(x='family', y='unit_sales', data=strain, ax=axis1)\n",
    "\n",
    "fig, (axis1) = plt.subplots(1,1,figsize=(30,4))\n",
    "chart = sns.barplot(\n",
    "    data=Salesdf,\n",
    "    x='family',\n",
    "    y='unit_sales',\n",
    "    ax=axis1,\n",
    "    palette='Set2'\n",
    ")\n",
    "chart.set_xticklabels(chart.get_xticklabels(), rotation=45, horizontalalignment='right')"
   ]
  },
  {
   "cell_type": "markdown",
   "metadata": {},
   "source": [
    "# The above plot shows the sales of products per Item family. The average unit_sales ranges somewhere between 0 to 20 with the maximum."
   ]
  },
  {
   "cell_type": "markdown",
   "metadata": {},
   "source": [
    "# 8. Data Transformation Techniques"
   ]
  },
  {
   "cell_type": "markdown",
   "metadata": {},
   "source": [
    "# 8.a One hot Encoding"
   ]
  },
  {
   "cell_type": "markdown",
   "metadata": {},
   "source": [
    "## What is One Hot Encoding?\n",
    "A one hot encoding is a representation of categorical variables as binary vectors.\n",
    "This first requires that the categorical values be mapped to integer values.\n",
    "Then, each integer value is represented as a binary vector that is all zero values except the index of the integer, which is marked with a 1.\n",
    "\n",
    "## Why Use a One Hot Encoding?\n",
    "A one hot encoding allows the representation of categorical data to be more expressive.\n",
    "Many machine learning algorithms cannot work with categorical data directly. The categories must be converted into numbers. This is required for both input and output variables that are categorical.\n",
    "\n",
    "\n",
    "## The text in the document by Source Wikipedia is licensed under CC BY 3.0 https://creativecommons.org/licenses/by/3.0/us/\n"
   ]
  },
  {
   "cell_type": "code",
   "execution_count": 26,
   "metadata": {},
   "outputs": [],
   "source": [
    "## One hot encoding using get_dummies on pandas dataframe.\n",
    "dummy_variables = ['family','item_nbr','month','day']\n",
    "\n",
    "for var in dummy_variables:\n",
    "    dummy = pd.get_dummies(Salesdf_filtered[var], prefix = var, drop_first = False)\n",
    "    Salesdf_filtered = pd.concat([Salesdf_filtered, dummy], axis = 1)\n",
    "\n",
    "Salesdf_filtered = Salesdf_filtered.drop(dummy_variables, axis = 1)\n",
    "Salesdf_filtered = Salesdf_filtered.drop(['year'], axis = 1)"
   ]
  },
  {
   "cell_type": "code",
   "execution_count": 27,
   "metadata": {},
   "outputs": [
    {
     "name": "stdout",
     "output_type": "stream",
     "text": [
      "<class 'pandas.core.frame.DataFrame'>\n",
      "Int64Index: 34207 entries, 112 to 3359551\n",
      "Data columns (total 35 columns):\n",
      "unit_sales               34207 non-null float64\n",
      "family_BEVERAGES         34207 non-null uint8\n",
      "family_BREAD/BAKERY      34207 non-null uint8\n",
      "family_CLEANING          34207 non-null uint8\n",
      "family_GROCERY I         34207 non-null uint8\n",
      "family_PREPARED FOODS    34207 non-null uint8\n",
      "item_nbr_222879          34207 non-null uint8\n",
      "item_nbr_261052          34207 non-null uint8\n",
      "item_nbr_265559          34207 non-null uint8\n",
      "item_nbr_314384          34207 non-null uint8\n",
      "item_nbr_323013          34207 non-null uint8\n",
      "item_nbr_364606          34207 non-null uint8\n",
      "item_nbr_414750          34207 non-null uint8\n",
      "item_nbr_502331          34207 non-null uint8\n",
      "item_nbr_581078          34207 non-null uint8\n",
      "item_nbr_1036689         34207 non-null uint8\n",
      "item_nbr_1052563         34207 non-null uint8\n",
      "item_nbr_1157564         34207 non-null uint8\n",
      "item_nbr_1162382         34207 non-null uint8\n",
      "item_nbr_1418845         34207 non-null uint8\n",
      "item_nbr_1463860         34207 non-null uint8\n",
      "item_nbr_1958216         34207 non-null uint8\n",
      "item_nbr_2010511         34207 non-null uint8\n",
      "item_nbr_2042941         34207 non-null uint8\n",
      "item_nbr_2042947         34207 non-null uint8\n",
      "item_nbr_2081064         34207 non-null uint8\n",
      "month_07                 34207 non-null uint8\n",
      "month_08                 34207 non-null uint8\n",
      "day_Friday               34207 non-null uint8\n",
      "day_Monday               34207 non-null uint8\n",
      "day_Saturday             34207 non-null uint8\n",
      "day_Sunday               34207 non-null uint8\n",
      "day_Thursday             34207 non-null uint8\n",
      "day_Tuesday              34207 non-null uint8\n",
      "day_Wednesday            34207 non-null uint8\n",
      "dtypes: float64(1), uint8(34)\n",
      "memory usage: 1.6 MB\n"
     ]
    }
   ],
   "source": [
    "Salesdf_filtered.info()\n",
    "#Salesdf_filtered.sample(10)"
   ]
  },
  {
   "cell_type": "code",
   "execution_count": 28,
   "metadata": {},
   "outputs": [
    {
     "data": {
      "text/html": [
       "<div>\n",
       "<style scoped>\n",
       "    .dataframe tbody tr th:only-of-type {\n",
       "        vertical-align: middle;\n",
       "    }\n",
       "\n",
       "    .dataframe tbody tr th {\n",
       "        vertical-align: top;\n",
       "    }\n",
       "\n",
       "    .dataframe thead th {\n",
       "        text-align: right;\n",
       "    }\n",
       "</style>\n",
       "<table border=\"1\" class=\"dataframe\">\n",
       "  <thead>\n",
       "    <tr style=\"text-align: right;\">\n",
       "      <th></th>\n",
       "      <th>unit_sales</th>\n",
       "      <th>family_BEVERAGES</th>\n",
       "      <th>family_BREAD/BAKERY</th>\n",
       "      <th>family_CLEANING</th>\n",
       "      <th>family_GROCERY I</th>\n",
       "      <th>family_PREPARED FOODS</th>\n",
       "      <th>item_nbr_222879</th>\n",
       "      <th>item_nbr_261052</th>\n",
       "      <th>item_nbr_265559</th>\n",
       "      <th>item_nbr_314384</th>\n",
       "      <th>...</th>\n",
       "      <th>item_nbr_2081064</th>\n",
       "      <th>month_07</th>\n",
       "      <th>month_08</th>\n",
       "      <th>day_Friday</th>\n",
       "      <th>day_Monday</th>\n",
       "      <th>day_Saturday</th>\n",
       "      <th>day_Sunday</th>\n",
       "      <th>day_Thursday</th>\n",
       "      <th>day_Tuesday</th>\n",
       "      <th>day_Wednesday</th>\n",
       "    </tr>\n",
       "  </thead>\n",
       "  <tbody>\n",
       "    <tr>\n",
       "      <th>112</th>\n",
       "      <td>4.0</td>\n",
       "      <td>0</td>\n",
       "      <td>0</td>\n",
       "      <td>0</td>\n",
       "      <td>1</td>\n",
       "      <td>0</td>\n",
       "      <td>1</td>\n",
       "      <td>0</td>\n",
       "      <td>0</td>\n",
       "      <td>0</td>\n",
       "      <td>...</td>\n",
       "      <td>0</td>\n",
       "      <td>1</td>\n",
       "      <td>0</td>\n",
       "      <td>0</td>\n",
       "      <td>0</td>\n",
       "      <td>1</td>\n",
       "      <td>0</td>\n",
       "      <td>0</td>\n",
       "      <td>0</td>\n",
       "      <td>0</td>\n",
       "    </tr>\n",
       "    <tr>\n",
       "      <th>131</th>\n",
       "      <td>6.0</td>\n",
       "      <td>0</td>\n",
       "      <td>0</td>\n",
       "      <td>0</td>\n",
       "      <td>1</td>\n",
       "      <td>0</td>\n",
       "      <td>0</td>\n",
       "      <td>1</td>\n",
       "      <td>0</td>\n",
       "      <td>0</td>\n",
       "      <td>...</td>\n",
       "      <td>0</td>\n",
       "      <td>1</td>\n",
       "      <td>0</td>\n",
       "      <td>0</td>\n",
       "      <td>0</td>\n",
       "      <td>1</td>\n",
       "      <td>0</td>\n",
       "      <td>0</td>\n",
       "      <td>0</td>\n",
       "      <td>0</td>\n",
       "    </tr>\n",
       "    <tr>\n",
       "      <th>147</th>\n",
       "      <td>26.0</td>\n",
       "      <td>0</td>\n",
       "      <td>0</td>\n",
       "      <td>0</td>\n",
       "      <td>1</td>\n",
       "      <td>0</td>\n",
       "      <td>0</td>\n",
       "      <td>0</td>\n",
       "      <td>1</td>\n",
       "      <td>0</td>\n",
       "      <td>...</td>\n",
       "      <td>0</td>\n",
       "      <td>1</td>\n",
       "      <td>0</td>\n",
       "      <td>0</td>\n",
       "      <td>0</td>\n",
       "      <td>1</td>\n",
       "      <td>0</td>\n",
       "      <td>0</td>\n",
       "      <td>0</td>\n",
       "      <td>0</td>\n",
       "    </tr>\n",
       "    <tr>\n",
       "      <th>180</th>\n",
       "      <td>35.0</td>\n",
       "      <td>0</td>\n",
       "      <td>0</td>\n",
       "      <td>0</td>\n",
       "      <td>1</td>\n",
       "      <td>0</td>\n",
       "      <td>0</td>\n",
       "      <td>0</td>\n",
       "      <td>0</td>\n",
       "      <td>1</td>\n",
       "      <td>...</td>\n",
       "      <td>0</td>\n",
       "      <td>1</td>\n",
       "      <td>0</td>\n",
       "      <td>0</td>\n",
       "      <td>0</td>\n",
       "      <td>1</td>\n",
       "      <td>0</td>\n",
       "      <td>0</td>\n",
       "      <td>0</td>\n",
       "      <td>0</td>\n",
       "    </tr>\n",
       "    <tr>\n",
       "      <th>204</th>\n",
       "      <td>6.0</td>\n",
       "      <td>0</td>\n",
       "      <td>0</td>\n",
       "      <td>0</td>\n",
       "      <td>1</td>\n",
       "      <td>0</td>\n",
       "      <td>0</td>\n",
       "      <td>0</td>\n",
       "      <td>0</td>\n",
       "      <td>0</td>\n",
       "      <td>...</td>\n",
       "      <td>0</td>\n",
       "      <td>1</td>\n",
       "      <td>0</td>\n",
       "      <td>0</td>\n",
       "      <td>0</td>\n",
       "      <td>1</td>\n",
       "      <td>0</td>\n",
       "      <td>0</td>\n",
       "      <td>0</td>\n",
       "      <td>0</td>\n",
       "    </tr>\n",
       "  </tbody>\n",
       "</table>\n",
       "<p>5 rows × 35 columns</p>\n",
       "</div>"
      ],
      "text/plain": [
       "     unit_sales  family_BEVERAGES  family_BREAD/BAKERY  family_CLEANING  \\\n",
       "112         4.0                 0                    0                0   \n",
       "131         6.0                 0                    0                0   \n",
       "147        26.0                 0                    0                0   \n",
       "180        35.0                 0                    0                0   \n",
       "204         6.0                 0                    0                0   \n",
       "\n",
       "     family_GROCERY I  family_PREPARED FOODS  item_nbr_222879  \\\n",
       "112                 1                      0                1   \n",
       "131                 1                      0                0   \n",
       "147                 1                      0                0   \n",
       "180                 1                      0                0   \n",
       "204                 1                      0                0   \n",
       "\n",
       "     item_nbr_261052  item_nbr_265559  item_nbr_314384  ...  item_nbr_2081064  \\\n",
       "112                0                0                0  ...                 0   \n",
       "131                1                0                0  ...                 0   \n",
       "147                0                1                0  ...                 0   \n",
       "180                0                0                1  ...                 0   \n",
       "204                0                0                0  ...                 0   \n",
       "\n",
       "     month_07  month_08  day_Friday  day_Monday  day_Saturday  day_Sunday  \\\n",
       "112         1         0           0           0             1           0   \n",
       "131         1         0           0           0             1           0   \n",
       "147         1         0           0           0             1           0   \n",
       "180         1         0           0           0             1           0   \n",
       "204         1         0           0           0             1           0   \n",
       "\n",
       "     day_Thursday  day_Tuesday  day_Wednesday  \n",
       "112             0            0              0  \n",
       "131             0            0              0  \n",
       "147             0            0              0  \n",
       "180             0            0              0  \n",
       "204             0            0              0  \n",
       "\n",
       "[5 rows x 35 columns]"
      ]
     },
     "execution_count": 28,
     "metadata": {},
     "output_type": "execute_result"
    }
   ],
   "source": [
    "Salesdf_filtered.head()"
   ]
  },
  {
   "cell_type": "markdown",
   "metadata": {},
   "source": [
    "# The above dataframe contains data after the one hot encoding technique is applied to the data."
   ]
  },
  {
   "cell_type": "code",
   "execution_count": 29,
   "metadata": {},
   "outputs": [],
   "source": [
    "#Re-scale\n",
    "#We keep this value to re-scale the predicted unit_sales values in the following lines of code.\n",
    "min_train, max_train = Salesdf_filtered['unit_sales'].min(), Salesdf_filtered['unit_sales'].max()"
   ]
  },
  {
   "cell_type": "code",
   "execution_count": 30,
   "metadata": {},
   "outputs": [],
   "source": [
    "scalable_variables = ['unit_sales']\n",
    "\n",
    "for var in scalable_variables:\n",
    "    mini, maxi = Salesdf_filtered[var].min(), Salesdf_filtered[var].max()\n",
    "    Salesdf_filtered.loc[:,var] = (Salesdf_filtered[var] - mini) / (maxi - mini)"
   ]
  },
  {
   "cell_type": "code",
   "execution_count": 31,
   "metadata": {},
   "outputs": [
    {
     "name": "stdout",
     "output_type": "stream",
     "text": [
      "Shape :  (34207, 35)\n"
     ]
    },
    {
     "data": {
      "text/html": [
       "<div>\n",
       "<style scoped>\n",
       "    .dataframe tbody tr th:only-of-type {\n",
       "        vertical-align: middle;\n",
       "    }\n",
       "\n",
       "    .dataframe tbody tr th {\n",
       "        vertical-align: top;\n",
       "    }\n",
       "\n",
       "    .dataframe thead th {\n",
       "        text-align: right;\n",
       "    }\n",
       "</style>\n",
       "<table border=\"1\" class=\"dataframe\">\n",
       "  <thead>\n",
       "    <tr style=\"text-align: right;\">\n",
       "      <th></th>\n",
       "      <th>unit_sales</th>\n",
       "      <th>family_BEVERAGES</th>\n",
       "      <th>family_BREAD/BAKERY</th>\n",
       "      <th>family_CLEANING</th>\n",
       "      <th>family_GROCERY I</th>\n",
       "      <th>family_PREPARED FOODS</th>\n",
       "      <th>item_nbr_222879</th>\n",
       "      <th>item_nbr_261052</th>\n",
       "      <th>item_nbr_265559</th>\n",
       "      <th>item_nbr_314384</th>\n",
       "      <th>...</th>\n",
       "      <th>item_nbr_2081064</th>\n",
       "      <th>month_07</th>\n",
       "      <th>month_08</th>\n",
       "      <th>day_Friday</th>\n",
       "      <th>day_Monday</th>\n",
       "      <th>day_Saturday</th>\n",
       "      <th>day_Sunday</th>\n",
       "      <th>day_Thursday</th>\n",
       "      <th>day_Tuesday</th>\n",
       "      <th>day_Wednesday</th>\n",
       "    </tr>\n",
       "  </thead>\n",
       "  <tbody>\n",
       "    <tr>\n",
       "      <th>2865611</th>\n",
       "      <td>0.007845</td>\n",
       "      <td>0</td>\n",
       "      <td>0</td>\n",
       "      <td>0</td>\n",
       "      <td>1</td>\n",
       "      <td>0</td>\n",
       "      <td>0</td>\n",
       "      <td>0</td>\n",
       "      <td>0</td>\n",
       "      <td>0</td>\n",
       "      <td>...</td>\n",
       "      <td>0</td>\n",
       "      <td>0</td>\n",
       "      <td>1</td>\n",
       "      <td>1</td>\n",
       "      <td>0</td>\n",
       "      <td>0</td>\n",
       "      <td>0</td>\n",
       "      <td>0</td>\n",
       "      <td>0</td>\n",
       "      <td>0</td>\n",
       "    </tr>\n",
       "    <tr>\n",
       "      <th>3047692</th>\n",
       "      <td>0.010460</td>\n",
       "      <td>1</td>\n",
       "      <td>0</td>\n",
       "      <td>0</td>\n",
       "      <td>0</td>\n",
       "      <td>0</td>\n",
       "      <td>0</td>\n",
       "      <td>0</td>\n",
       "      <td>0</td>\n",
       "      <td>0</td>\n",
       "      <td>...</td>\n",
       "      <td>0</td>\n",
       "      <td>0</td>\n",
       "      <td>1</td>\n",
       "      <td>0</td>\n",
       "      <td>0</td>\n",
       "      <td>1</td>\n",
       "      <td>0</td>\n",
       "      <td>0</td>\n",
       "      <td>0</td>\n",
       "      <td>0</td>\n",
       "    </tr>\n",
       "    <tr>\n",
       "      <th>2985562</th>\n",
       "      <td>0.006799</td>\n",
       "      <td>0</td>\n",
       "      <td>0</td>\n",
       "      <td>0</td>\n",
       "      <td>1</td>\n",
       "      <td>0</td>\n",
       "      <td>1</td>\n",
       "      <td>0</td>\n",
       "      <td>0</td>\n",
       "      <td>0</td>\n",
       "      <td>...</td>\n",
       "      <td>0</td>\n",
       "      <td>0</td>\n",
       "      <td>1</td>\n",
       "      <td>0</td>\n",
       "      <td>0</td>\n",
       "      <td>1</td>\n",
       "      <td>0</td>\n",
       "      <td>0</td>\n",
       "      <td>0</td>\n",
       "      <td>0</td>\n",
       "    </tr>\n",
       "    <tr>\n",
       "      <th>1389083</th>\n",
       "      <td>0.008368</td>\n",
       "      <td>0</td>\n",
       "      <td>0</td>\n",
       "      <td>0</td>\n",
       "      <td>1</td>\n",
       "      <td>0</td>\n",
       "      <td>0</td>\n",
       "      <td>0</td>\n",
       "      <td>0</td>\n",
       "      <td>0</td>\n",
       "      <td>...</td>\n",
       "      <td>0</td>\n",
       "      <td>1</td>\n",
       "      <td>0</td>\n",
       "      <td>1</td>\n",
       "      <td>0</td>\n",
       "      <td>0</td>\n",
       "      <td>0</td>\n",
       "      <td>0</td>\n",
       "      <td>0</td>\n",
       "      <td>0</td>\n",
       "    </tr>\n",
       "    <tr>\n",
       "      <th>3236454</th>\n",
       "      <td>0.041318</td>\n",
       "      <td>0</td>\n",
       "      <td>0</td>\n",
       "      <td>0</td>\n",
       "      <td>1</td>\n",
       "      <td>0</td>\n",
       "      <td>0</td>\n",
       "      <td>0</td>\n",
       "      <td>0</td>\n",
       "      <td>1</td>\n",
       "      <td>...</td>\n",
       "      <td>0</td>\n",
       "      <td>0</td>\n",
       "      <td>1</td>\n",
       "      <td>0</td>\n",
       "      <td>1</td>\n",
       "      <td>0</td>\n",
       "      <td>0</td>\n",
       "      <td>0</td>\n",
       "      <td>0</td>\n",
       "      <td>0</td>\n",
       "    </tr>\n",
       "    <tr>\n",
       "      <th>1951905</th>\n",
       "      <td>0.012029</td>\n",
       "      <td>0</td>\n",
       "      <td>0</td>\n",
       "      <td>0</td>\n",
       "      <td>1</td>\n",
       "      <td>0</td>\n",
       "      <td>0</td>\n",
       "      <td>0</td>\n",
       "      <td>0</td>\n",
       "      <td>1</td>\n",
       "      <td>...</td>\n",
       "      <td>0</td>\n",
       "      <td>0</td>\n",
       "      <td>1</td>\n",
       "      <td>0</td>\n",
       "      <td>0</td>\n",
       "      <td>0</td>\n",
       "      <td>0</td>\n",
       "      <td>0</td>\n",
       "      <td>0</td>\n",
       "      <td>1</td>\n",
       "    </tr>\n",
       "    <tr>\n",
       "      <th>326389</th>\n",
       "      <td>0.007845</td>\n",
       "      <td>0</td>\n",
       "      <td>0</td>\n",
       "      <td>0</td>\n",
       "      <td>1</td>\n",
       "      <td>0</td>\n",
       "      <td>0</td>\n",
       "      <td>0</td>\n",
       "      <td>0</td>\n",
       "      <td>0</td>\n",
       "      <td>...</td>\n",
       "      <td>0</td>\n",
       "      <td>1</td>\n",
       "      <td>0</td>\n",
       "      <td>0</td>\n",
       "      <td>1</td>\n",
       "      <td>0</td>\n",
       "      <td>0</td>\n",
       "      <td>0</td>\n",
       "      <td>0</td>\n",
       "      <td>0</td>\n",
       "    </tr>\n",
       "    <tr>\n",
       "      <th>183894</th>\n",
       "      <td>0.005753</td>\n",
       "      <td>0</td>\n",
       "      <td>0</td>\n",
       "      <td>0</td>\n",
       "      <td>1</td>\n",
       "      <td>0</td>\n",
       "      <td>0</td>\n",
       "      <td>0</td>\n",
       "      <td>0</td>\n",
       "      <td>0</td>\n",
       "      <td>...</td>\n",
       "      <td>0</td>\n",
       "      <td>1</td>\n",
       "      <td>0</td>\n",
       "      <td>0</td>\n",
       "      <td>0</td>\n",
       "      <td>0</td>\n",
       "      <td>1</td>\n",
       "      <td>0</td>\n",
       "      <td>0</td>\n",
       "      <td>0</td>\n",
       "    </tr>\n",
       "    <tr>\n",
       "      <th>1499432</th>\n",
       "      <td>0.015690</td>\n",
       "      <td>0</td>\n",
       "      <td>0</td>\n",
       "      <td>0</td>\n",
       "      <td>1</td>\n",
       "      <td>0</td>\n",
       "      <td>0</td>\n",
       "      <td>0</td>\n",
       "      <td>0</td>\n",
       "      <td>0</td>\n",
       "      <td>...</td>\n",
       "      <td>0</td>\n",
       "      <td>1</td>\n",
       "      <td>0</td>\n",
       "      <td>0</td>\n",
       "      <td>0</td>\n",
       "      <td>1</td>\n",
       "      <td>0</td>\n",
       "      <td>0</td>\n",
       "      <td>0</td>\n",
       "      <td>0</td>\n",
       "    </tr>\n",
       "    <tr>\n",
       "      <th>2228269</th>\n",
       "      <td>0.021444</td>\n",
       "      <td>0</td>\n",
       "      <td>1</td>\n",
       "      <td>0</td>\n",
       "      <td>0</td>\n",
       "      <td>0</td>\n",
       "      <td>0</td>\n",
       "      <td>0</td>\n",
       "      <td>0</td>\n",
       "      <td>0</td>\n",
       "      <td>...</td>\n",
       "      <td>0</td>\n",
       "      <td>0</td>\n",
       "      <td>1</td>\n",
       "      <td>0</td>\n",
       "      <td>0</td>\n",
       "      <td>1</td>\n",
       "      <td>0</td>\n",
       "      <td>0</td>\n",
       "      <td>0</td>\n",
       "      <td>0</td>\n",
       "    </tr>\n",
       "  </tbody>\n",
       "</table>\n",
       "<p>10 rows × 35 columns</p>\n",
       "</div>"
      ],
      "text/plain": [
       "         unit_sales  family_BEVERAGES  family_BREAD/BAKERY  family_CLEANING  \\\n",
       "2865611    0.007845                 0                    0                0   \n",
       "3047692    0.010460                 1                    0                0   \n",
       "2985562    0.006799                 0                    0                0   \n",
       "1389083    0.008368                 0                    0                0   \n",
       "3236454    0.041318                 0                    0                0   \n",
       "1951905    0.012029                 0                    0                0   \n",
       "326389     0.007845                 0                    0                0   \n",
       "183894     0.005753                 0                    0                0   \n",
       "1499432    0.015690                 0                    0                0   \n",
       "2228269    0.021444                 0                    1                0   \n",
       "\n",
       "         family_GROCERY I  family_PREPARED FOODS  item_nbr_222879  \\\n",
       "2865611                 1                      0                0   \n",
       "3047692                 0                      0                0   \n",
       "2985562                 1                      0                1   \n",
       "1389083                 1                      0                0   \n",
       "3236454                 1                      0                0   \n",
       "1951905                 1                      0                0   \n",
       "326389                  1                      0                0   \n",
       "183894                  1                      0                0   \n",
       "1499432                 1                      0                0   \n",
       "2228269                 0                      0                0   \n",
       "\n",
       "         item_nbr_261052  item_nbr_265559  item_nbr_314384  ...  \\\n",
       "2865611                0                0                0  ...   \n",
       "3047692                0                0                0  ...   \n",
       "2985562                0                0                0  ...   \n",
       "1389083                0                0                0  ...   \n",
       "3236454                0                0                1  ...   \n",
       "1951905                0                0                1  ...   \n",
       "326389                 0                0                0  ...   \n",
       "183894                 0                0                0  ...   \n",
       "1499432                0                0                0  ...   \n",
       "2228269                0                0                0  ...   \n",
       "\n",
       "         item_nbr_2081064  month_07  month_08  day_Friday  day_Monday  \\\n",
       "2865611                 0         0         1           1           0   \n",
       "3047692                 0         0         1           0           0   \n",
       "2985562                 0         0         1           0           0   \n",
       "1389083                 0         1         0           1           0   \n",
       "3236454                 0         0         1           0           1   \n",
       "1951905                 0         0         1           0           0   \n",
       "326389                  0         1         0           0           1   \n",
       "183894                  0         1         0           0           0   \n",
       "1499432                 0         1         0           0           0   \n",
       "2228269                 0         0         1           0           0   \n",
       "\n",
       "         day_Saturday  day_Sunday  day_Thursday  day_Tuesday  day_Wednesday  \n",
       "2865611             0           0             0            0              0  \n",
       "3047692             1           0             0            0              0  \n",
       "2985562             1           0             0            0              0  \n",
       "1389083             0           0             0            0              0  \n",
       "3236454             0           0             0            0              0  \n",
       "1951905             0           0             0            0              1  \n",
       "326389              0           0             0            0              0  \n",
       "183894              0           1             0            0              0  \n",
       "1499432             1           0             0            0              0  \n",
       "2228269             1           0             0            0              0  \n",
       "\n",
       "[10 rows x 35 columns]"
      ]
     },
     "execution_count": 31,
     "metadata": {},
     "output_type": "execute_result"
    }
   ],
   "source": [
    "print('Shape : ', Salesdf_filtered.shape)\n",
    "Salesdf_filtered.sample(10)"
   ]
  },
  {
   "cell_type": "code",
   "execution_count": 32,
   "metadata": {},
   "outputs": [
    {
     "data": {
      "text/plain": [
       "unit_sales               0\n",
       "family_BEVERAGES         0\n",
       "family_BREAD/BAKERY      0\n",
       "family_CLEANING          0\n",
       "family_GROCERY I         0\n",
       "family_PREPARED FOODS    0\n",
       "item_nbr_222879          0\n",
       "item_nbr_261052          0\n",
       "item_nbr_265559          0\n",
       "item_nbr_314384          0\n",
       "item_nbr_323013          0\n",
       "item_nbr_364606          0\n",
       "item_nbr_414750          0\n",
       "item_nbr_502331          0\n",
       "item_nbr_581078          0\n",
       "item_nbr_1036689         0\n",
       "item_nbr_1052563         0\n",
       "item_nbr_1157564         0\n",
       "item_nbr_1162382         0\n",
       "item_nbr_1418845         0\n",
       "item_nbr_1463860         0\n",
       "item_nbr_1958216         0\n",
       "item_nbr_2010511         0\n",
       "item_nbr_2042941         0\n",
       "item_nbr_2042947         0\n",
       "item_nbr_2081064         0\n",
       "month_07                 0\n",
       "month_08                 0\n",
       "day_Friday               0\n",
       "day_Monday               0\n",
       "day_Saturday             0\n",
       "day_Sunday               0\n",
       "day_Thursday             0\n",
       "day_Tuesday              0\n",
       "day_Wednesday            0\n",
       "dtype: int64"
      ]
     },
     "execution_count": 32,
     "metadata": {},
     "output_type": "execute_result"
    }
   ],
   "source": [
    "Salesdf_filtered.isnull().sum()\n"
   ]
  },
  {
   "cell_type": "code",
   "execution_count": 33,
   "metadata": {},
   "outputs": [
    {
     "name": "stdout",
     "output_type": "stream",
     "text": [
      "Shape X : (34207, 34)\n",
      "Shape y : (34207,)\n"
     ]
    }
   ],
   "source": [
    "#train database without unit_sales\n",
    "Salesdf_filtered = Salesdf_filtered.reset_index(drop=True)  #we reset the index\n",
    "y = Salesdf_filtered['unit_sales']\n",
    "X = Salesdf_filtered.drop(['unit_sales'], axis = 1)\n",
    "\n",
    "print('Shape X :', X.shape)\n",
    "print('Shape y :', y.shape)"
   ]
  },
  {
   "cell_type": "code",
   "execution_count": 34,
   "metadata": {},
   "outputs": [
    {
     "name": "stdout",
     "output_type": "stream",
     "text": [
      "X_train shape : (27365, 34)\n",
      "y_train shape : (27365,)\n",
      "X_test shape : (6842, 34)\n",
      "y_test shape : (6842,)\n"
     ]
    }
   ],
   "source": [
    "num_test = 0.20\n",
    "X_train, X_test, y_train, y_test = train_test_split(X, y, test_size=num_test, random_state=15)\n",
    "print('X_train shape :', X_train.shape)\n",
    "print('y_train shape :', y_train.shape)\n",
    "print('X_test shape :', X_test.shape)\n",
    "print('y_test shape :', y_test.shape)"
   ]
  },
  {
   "cell_type": "markdown",
   "metadata": {},
   "source": [
    "# 9. Regression Model fitting techniques."
   ]
  },
  {
   "cell_type": "markdown",
   "metadata": {},
   "source": [
    "# 9.a. Linear Regression"
   ]
  },
  {
   "cell_type": "markdown",
   "metadata": {},
   "source": [
    "## Linear Regression\n",
    "\n",
    "Linear Regression is a linear approach for modelling the relationship between a scalar dependent variable y and one or more explanatory variables (or independent variables) denoted X. The case of one explanatory variable is called simple linear regression. For more than one explanatory variable, the process is called multiple linear regression.\n",
    "\n",
    "Linear regression models are often fitted using the least squares approach, but they may also be fitted in other ways, such as by minimizing the \"lack of fit\" in some other norm (as with least absolute deviations regression), or by minimizing a penalized version of the least squares cost function as in ridge regression (L2-norm penalty) and lasso (L1-norm penalty). \n",
    "\n",
    "\n",
    "## The text in the document by Source Wikipedia is licensed under CC BY 3.0 https://creativecommons.org/licenses/by/3.0/us/"
   ]
  },
  {
   "cell_type": "code",
   "execution_count": 35,
   "metadata": {},
   "outputs": [
    {
     "name": "stdout",
     "output_type": "stream",
     "text": [
      "LinearRegression(copy_X=True, fit_intercept=True, n_jobs=None, normalize=False)\n"
     ]
    }
   ],
   "source": [
    "# Fit the linear model\n",
    "model = linear_model.LinearRegression()\n",
    "results = model.fit(X_train, y_train)\n",
    "print(results)"
   ]
  },
  {
   "cell_type": "code",
   "execution_count": 36,
   "metadata": {},
   "outputs": [
    {
     "name": "stdout",
     "output_type": "stream",
     "text": [
      "11149572851.287153 [ 3.64610270e+09 -4.03766297e+07 -8.01000221e+08 -1.51957120e+09\n",
      " -7.88989384e+08 -1.00587423e+08 -1.00587423e+08 -1.00587423e+08\n",
      " -1.00587423e+08 -1.00587423e+08 -1.00587423e+08 -1.00587423e+08\n",
      " -1.57978199e+09 -8.19158403e+08 -1.00587423e+08 -1.00587423e+08\n",
      " -1.00587423e+08 -1.00587423e+08 -1.00587423e+08 -5.26626132e+09\n",
      " -5.26626132e+09 -1.00587423e+08 -5.26626132e+09 -5.26626132e+09\n",
      " -8.31169240e+08 -7.69603868e+09 -7.69603868e+09 -1.83337555e+09\n",
      " -1.83337555e+09 -1.83337555e+09 -1.83337555e+09 -1.83337555e+09\n",
      " -1.83337555e+09 -1.83337555e+09]\n"
     ]
    }
   ],
   "source": [
    "# Print the coefficients\n",
    "print (results.intercept_, results.coef_)"
   ]
  },
  {
   "cell_type": "code",
   "execution_count": 37,
   "metadata": {
    "scrolled": true
   },
   "outputs": [
    {
     "data": {
      "text/html": [
       "<table class=\"simpletable\">\n",
       "<caption>OLS Regression Results</caption>\n",
       "<tr>\n",
       "  <th>Dep. Variable:</th>       <td>unit_sales</td>    <th>  R-squared:         </th>  <td>   0.219</td> \n",
       "</tr>\n",
       "<tr>\n",
       "  <th>Model:</th>                   <td>OLS</td>       <th>  Adj. R-squared:    </th>  <td>   0.219</td> \n",
       "</tr>\n",
       "<tr>\n",
       "  <th>Method:</th>             <td>Least Squares</td>  <th>  F-statistic:       </th>  <td>   295.6</td> \n",
       "</tr>\n",
       "<tr>\n",
       "  <th>Date:</th>             <td>Mon, 30 Dec 2019</td> <th>  Prob (F-statistic):</th>   <td>  0.00</td>  \n",
       "</tr>\n",
       "<tr>\n",
       "  <th>Time:</th>                 <td>16:57:44</td>     <th>  Log-Likelihood:    </th>  <td>  63085.</td> \n",
       "</tr>\n",
       "<tr>\n",
       "  <th>No. Observations:</th>      <td> 27365</td>      <th>  AIC:               </th> <td>-1.261e+05</td>\n",
       "</tr>\n",
       "<tr>\n",
       "  <th>Df Residuals:</th>          <td> 27338</td>      <th>  BIC:               </th> <td>-1.259e+05</td>\n",
       "</tr>\n",
       "<tr>\n",
       "  <th>Df Model:</th>              <td>    26</td>      <th>                     </th>      <td> </td>    \n",
       "</tr>\n",
       "<tr>\n",
       "  <th>Covariance Type:</th>      <td>nonrobust</td>    <th>                     </th>      <td> </td>    \n",
       "</tr>\n",
       "</table>\n",
       "<table class=\"simpletable\">\n",
       "<tr>\n",
       "            <td></td>               <th>coef</th>     <th>std err</th>      <th>t</th>      <th>P>|t|</th>  <th>[0.025</th>    <th>0.975]</th>  \n",
       "</tr>\n",
       "<tr>\n",
       "  <th>family_BEVERAGES</th>      <td> 2.654e+10</td> <td> 4.25e+10</td> <td>    0.625</td> <td> 0.532</td> <td>-5.67e+10</td> <td>  1.1e+11</td>\n",
       "</tr>\n",
       "<tr>\n",
       "  <th>family_BREAD/BAKERY</th>   <td> 4.843e+09</td> <td> 6.56e+09</td> <td>    0.739</td> <td> 0.460</td> <td>-8.01e+09</td> <td> 1.77e+10</td>\n",
       "</tr>\n",
       "<tr>\n",
       "  <th>family_CLEANING</th>       <td> 4.755e+09</td> <td> 6.43e+09</td> <td>    0.740</td> <td> 0.459</td> <td>-7.84e+09</td> <td> 1.73e+10</td>\n",
       "</tr>\n",
       "<tr>\n",
       "  <th>family_GROCERY I</th>      <td> 2.953e+09</td> <td> 1.25e+10</td> <td>    0.237</td> <td> 0.813</td> <td>-2.15e+10</td> <td> 2.74e+10</td>\n",
       "</tr>\n",
       "<tr>\n",
       "  <th>family_PREPARED FOODS</th> <td> 4.917e+09</td> <td> 6.69e+09</td> <td>    0.735</td> <td> 0.462</td> <td> -8.2e+09</td> <td>  1.8e+10</td>\n",
       "</tr>\n",
       "<tr>\n",
       "  <th>item_nbr_222879</th>       <td> 6.789e+09</td> <td>  5.9e+09</td> <td>    1.151</td> <td> 0.250</td> <td>-4.77e+09</td> <td> 1.83e+10</td>\n",
       "</tr>\n",
       "<tr>\n",
       "  <th>item_nbr_261052</th>       <td> 6.789e+09</td> <td>  5.9e+09</td> <td>    1.151</td> <td> 0.250</td> <td>-4.77e+09</td> <td> 1.83e+10</td>\n",
       "</tr>\n",
       "<tr>\n",
       "  <th>item_nbr_265559</th>       <td> 6.789e+09</td> <td>  5.9e+09</td> <td>    1.151</td> <td> 0.250</td> <td>-4.77e+09</td> <td> 1.83e+10</td>\n",
       "</tr>\n",
       "<tr>\n",
       "  <th>item_nbr_314384</th>       <td> 6.789e+09</td> <td>  5.9e+09</td> <td>    1.151</td> <td> 0.250</td> <td>-4.77e+09</td> <td> 1.83e+10</td>\n",
       "</tr>\n",
       "<tr>\n",
       "  <th>item_nbr_323013</th>       <td> 6.789e+09</td> <td>  5.9e+09</td> <td>    1.151</td> <td> 0.250</td> <td>-4.77e+09</td> <td> 1.83e+10</td>\n",
       "</tr>\n",
       "<tr>\n",
       "  <th>item_nbr_364606</th>       <td> 6.789e+09</td> <td>  5.9e+09</td> <td>    1.151</td> <td> 0.250</td> <td>-4.77e+09</td> <td> 1.83e+10</td>\n",
       "</tr>\n",
       "<tr>\n",
       "  <th>item_nbr_414750</th>       <td> 6.789e+09</td> <td>  5.9e+09</td> <td>    1.151</td> <td> 0.250</td> <td>-4.77e+09</td> <td> 1.83e+10</td>\n",
       "</tr>\n",
       "<tr>\n",
       "  <th>item_nbr_502331</th>       <td> 4.899e+09</td> <td> 6.55e+09</td> <td>    0.748</td> <td> 0.455</td> <td>-7.95e+09</td> <td> 1.77e+10</td>\n",
       "</tr>\n",
       "<tr>\n",
       "  <th>item_nbr_581078</th>       <td> 4.987e+09</td> <td> 6.69e+09</td> <td>    0.745</td> <td> 0.456</td> <td>-8.13e+09</td> <td> 1.81e+10</td>\n",
       "</tr>\n",
       "<tr>\n",
       "  <th>item_nbr_1036689</th>      <td> 6.789e+09</td> <td>  5.9e+09</td> <td>    1.151</td> <td> 0.250</td> <td>-4.77e+09</td> <td> 1.83e+10</td>\n",
       "</tr>\n",
       "<tr>\n",
       "  <th>item_nbr_1052563</th>      <td> 6.789e+09</td> <td>  5.9e+09</td> <td>    1.151</td> <td> 0.250</td> <td>-4.77e+09</td> <td> 1.83e+10</td>\n",
       "</tr>\n",
       "<tr>\n",
       "  <th>item_nbr_1157564</th>      <td> 6.789e+09</td> <td>  5.9e+09</td> <td>    1.151</td> <td> 0.250</td> <td>-4.77e+09</td> <td> 1.83e+10</td>\n",
       "</tr>\n",
       "<tr>\n",
       "  <th>item_nbr_1162382</th>      <td> 6.789e+09</td> <td>  5.9e+09</td> <td>    1.151</td> <td> 0.250</td> <td>-4.77e+09</td> <td> 1.83e+10</td>\n",
       "</tr>\n",
       "<tr>\n",
       "  <th>item_nbr_1418845</th>      <td> 6.789e+09</td> <td>  5.9e+09</td> <td>    1.151</td> <td> 0.250</td> <td>-4.77e+09</td> <td> 1.83e+10</td>\n",
       "</tr>\n",
       "<tr>\n",
       "  <th>item_nbr_1463860</th>      <td> -1.68e+10</td> <td> 4.05e+10</td> <td>   -0.415</td> <td> 0.678</td> <td>-9.62e+10</td> <td> 6.26e+10</td>\n",
       "</tr>\n",
       "<tr>\n",
       "  <th>item_nbr_1958216</th>      <td> -1.68e+10</td> <td> 4.05e+10</td> <td>   -0.415</td> <td> 0.678</td> <td>-9.62e+10</td> <td> 6.26e+10</td>\n",
       "</tr>\n",
       "<tr>\n",
       "  <th>item_nbr_2010511</th>      <td> 6.789e+09</td> <td>  5.9e+09</td> <td>    1.151</td> <td> 0.250</td> <td>-4.77e+09</td> <td> 1.83e+10</td>\n",
       "</tr>\n",
       "<tr>\n",
       "  <th>item_nbr_2042941</th>      <td> -1.68e+10</td> <td> 4.05e+10</td> <td>   -0.415</td> <td> 0.678</td> <td>-9.62e+10</td> <td> 6.26e+10</td>\n",
       "</tr>\n",
       "<tr>\n",
       "  <th>item_nbr_2042947</th>      <td> -1.68e+10</td> <td> 4.05e+10</td> <td>   -0.415</td> <td> 0.678</td> <td>-9.62e+10</td> <td> 6.26e+10</td>\n",
       "</tr>\n",
       "<tr>\n",
       "  <th>item_nbr_2081064</th>      <td> 4.826e+09</td> <td> 6.42e+09</td> <td>    0.751</td> <td> 0.452</td> <td>-7.76e+09</td> <td> 1.74e+10</td>\n",
       "</tr>\n",
       "<tr>\n",
       "  <th>month_07</th>              <td>-2.948e+09</td> <td> 1.25e+10</td> <td>   -0.237</td> <td> 0.813</td> <td>-2.74e+10</td> <td> 2.15e+10</td>\n",
       "</tr>\n",
       "<tr>\n",
       "  <th>month_08</th>              <td>-2.948e+09</td> <td> 1.25e+10</td> <td>   -0.237</td> <td> 0.813</td> <td>-2.74e+10</td> <td> 2.15e+10</td>\n",
       "</tr>\n",
       "<tr>\n",
       "  <th>day_Friday</th>            <td>-6.794e+09</td> <td> 1.56e+10</td> <td>   -0.435</td> <td> 0.663</td> <td>-3.74e+10</td> <td> 2.38e+10</td>\n",
       "</tr>\n",
       "<tr>\n",
       "  <th>day_Monday</th>            <td>-6.794e+09</td> <td> 1.56e+10</td> <td>   -0.435</td> <td> 0.663</td> <td>-3.74e+10</td> <td> 2.38e+10</td>\n",
       "</tr>\n",
       "<tr>\n",
       "  <th>day_Saturday</th>          <td>-6.794e+09</td> <td> 1.56e+10</td> <td>   -0.435</td> <td> 0.663</td> <td>-3.74e+10</td> <td> 2.38e+10</td>\n",
       "</tr>\n",
       "<tr>\n",
       "  <th>day_Sunday</th>            <td>-6.794e+09</td> <td> 1.56e+10</td> <td>   -0.435</td> <td> 0.663</td> <td>-3.74e+10</td> <td> 2.38e+10</td>\n",
       "</tr>\n",
       "<tr>\n",
       "  <th>day_Thursday</th>          <td>-6.794e+09</td> <td> 1.56e+10</td> <td>   -0.435</td> <td> 0.663</td> <td>-3.74e+10</td> <td> 2.38e+10</td>\n",
       "</tr>\n",
       "<tr>\n",
       "  <th>day_Tuesday</th>           <td>-6.794e+09</td> <td> 1.56e+10</td> <td>   -0.435</td> <td> 0.663</td> <td>-3.74e+10</td> <td> 2.38e+10</td>\n",
       "</tr>\n",
       "<tr>\n",
       "  <th>day_Wednesday</th>         <td>-6.794e+09</td> <td> 1.56e+10</td> <td>   -0.435</td> <td> 0.663</td> <td>-3.74e+10</td> <td> 2.38e+10</td>\n",
       "</tr>\n",
       "</table>\n",
       "<table class=\"simpletable\">\n",
       "<tr>\n",
       "  <th>Omnibus:</th>       <td>41924.931</td> <th>  Durbin-Watson:     </th>   <td>   1.984</td>  \n",
       "</tr>\n",
       "<tr>\n",
       "  <th>Prob(Omnibus):</th>  <td> 0.000</td>   <th>  Jarque-Bera (JB):  </th> <td>46234214.517</td>\n",
       "</tr>\n",
       "<tr>\n",
       "  <th>Skew:</th>           <td> 9.335</td>   <th>  Prob(JB):          </th>   <td>    0.00</td>  \n",
       "</tr>\n",
       "<tr>\n",
       "  <th>Kurtosis:</th>       <td>203.500</td>  <th>  Cond. No.          </th>   <td>2.61e+16</td>  \n",
       "</tr>\n",
       "</table><br/><br/>Warnings:<br/>[1] Standard Errors assume that the covariance matrix of the errors is correctly specified.<br/>[2] The smallest eigenvalue is 4.96e-29. This might indicate that there are<br/>strong multicollinearity problems or that the design matrix is singular."
      ],
      "text/plain": [
       "<class 'statsmodels.iolib.summary.Summary'>\n",
       "\"\"\"\n",
       "                            OLS Regression Results                            \n",
       "==============================================================================\n",
       "Dep. Variable:             unit_sales   R-squared:                       0.219\n",
       "Model:                            OLS   Adj. R-squared:                  0.219\n",
       "Method:                 Least Squares   F-statistic:                     295.6\n",
       "Date:                Mon, 30 Dec 2019   Prob (F-statistic):               0.00\n",
       "Time:                        16:57:44   Log-Likelihood:                 63085.\n",
       "No. Observations:               27365   AIC:                        -1.261e+05\n",
       "Df Residuals:                   27338   BIC:                        -1.259e+05\n",
       "Df Model:                          26                                         \n",
       "Covariance Type:            nonrobust                                         \n",
       "=========================================================================================\n",
       "                            coef    std err          t      P>|t|      [0.025      0.975]\n",
       "-----------------------------------------------------------------------------------------\n",
       "family_BEVERAGES       2.654e+10   4.25e+10      0.625      0.532   -5.67e+10     1.1e+11\n",
       "family_BREAD/BAKERY    4.843e+09   6.56e+09      0.739      0.460   -8.01e+09    1.77e+10\n",
       "family_CLEANING        4.755e+09   6.43e+09      0.740      0.459   -7.84e+09    1.73e+10\n",
       "family_GROCERY I       2.953e+09   1.25e+10      0.237      0.813   -2.15e+10    2.74e+10\n",
       "family_PREPARED FOODS  4.917e+09   6.69e+09      0.735      0.462    -8.2e+09     1.8e+10\n",
       "item_nbr_222879        6.789e+09    5.9e+09      1.151      0.250   -4.77e+09    1.83e+10\n",
       "item_nbr_261052        6.789e+09    5.9e+09      1.151      0.250   -4.77e+09    1.83e+10\n",
       "item_nbr_265559        6.789e+09    5.9e+09      1.151      0.250   -4.77e+09    1.83e+10\n",
       "item_nbr_314384        6.789e+09    5.9e+09      1.151      0.250   -4.77e+09    1.83e+10\n",
       "item_nbr_323013        6.789e+09    5.9e+09      1.151      0.250   -4.77e+09    1.83e+10\n",
       "item_nbr_364606        6.789e+09    5.9e+09      1.151      0.250   -4.77e+09    1.83e+10\n",
       "item_nbr_414750        6.789e+09    5.9e+09      1.151      0.250   -4.77e+09    1.83e+10\n",
       "item_nbr_502331        4.899e+09   6.55e+09      0.748      0.455   -7.95e+09    1.77e+10\n",
       "item_nbr_581078        4.987e+09   6.69e+09      0.745      0.456   -8.13e+09    1.81e+10\n",
       "item_nbr_1036689       6.789e+09    5.9e+09      1.151      0.250   -4.77e+09    1.83e+10\n",
       "item_nbr_1052563       6.789e+09    5.9e+09      1.151      0.250   -4.77e+09    1.83e+10\n",
       "item_nbr_1157564       6.789e+09    5.9e+09      1.151      0.250   -4.77e+09    1.83e+10\n",
       "item_nbr_1162382       6.789e+09    5.9e+09      1.151      0.250   -4.77e+09    1.83e+10\n",
       "item_nbr_1418845       6.789e+09    5.9e+09      1.151      0.250   -4.77e+09    1.83e+10\n",
       "item_nbr_1463860       -1.68e+10   4.05e+10     -0.415      0.678   -9.62e+10    6.26e+10\n",
       "item_nbr_1958216       -1.68e+10   4.05e+10     -0.415      0.678   -9.62e+10    6.26e+10\n",
       "item_nbr_2010511       6.789e+09    5.9e+09      1.151      0.250   -4.77e+09    1.83e+10\n",
       "item_nbr_2042941       -1.68e+10   4.05e+10     -0.415      0.678   -9.62e+10    6.26e+10\n",
       "item_nbr_2042947       -1.68e+10   4.05e+10     -0.415      0.678   -9.62e+10    6.26e+10\n",
       "item_nbr_2081064       4.826e+09   6.42e+09      0.751      0.452   -7.76e+09    1.74e+10\n",
       "month_07              -2.948e+09   1.25e+10     -0.237      0.813   -2.74e+10    2.15e+10\n",
       "month_08              -2.948e+09   1.25e+10     -0.237      0.813   -2.74e+10    2.15e+10\n",
       "day_Friday            -6.794e+09   1.56e+10     -0.435      0.663   -3.74e+10    2.38e+10\n",
       "day_Monday            -6.794e+09   1.56e+10     -0.435      0.663   -3.74e+10    2.38e+10\n",
       "day_Saturday          -6.794e+09   1.56e+10     -0.435      0.663   -3.74e+10    2.38e+10\n",
       "day_Sunday            -6.794e+09   1.56e+10     -0.435      0.663   -3.74e+10    2.38e+10\n",
       "day_Thursday          -6.794e+09   1.56e+10     -0.435      0.663   -3.74e+10    2.38e+10\n",
       "day_Tuesday           -6.794e+09   1.56e+10     -0.435      0.663   -3.74e+10    2.38e+10\n",
       "day_Wednesday         -6.794e+09   1.56e+10     -0.435      0.663   -3.74e+10    2.38e+10\n",
       "==============================================================================\n",
       "Omnibus:                    41924.931   Durbin-Watson:                   1.984\n",
       "Prob(Omnibus):                  0.000   Jarque-Bera (JB):         46234214.517\n",
       "Skew:                           9.335   Prob(JB):                         0.00\n",
       "Kurtosis:                     203.500   Cond. No.                     2.61e+16\n",
       "==============================================================================\n",
       "\n",
       "Warnings:\n",
       "[1] Standard Errors assume that the covariance matrix of the errors is correctly specified.\n",
       "[2] The smallest eigenvalue is 4.96e-29. This might indicate that there are\n",
       "strong multicollinearity problems or that the design matrix is singular.\n",
       "\"\"\""
      ]
     },
     "execution_count": 37,
     "metadata": {},
     "output_type": "execute_result"
    }
   ],
   "source": [
    "import statsmodels.api as sm\n",
    "import statsmodels.regression.linear_model as sm\n",
    "model = sm.OLS(y_train, X_train)\n",
    "results = model.fit()\n",
    "# Statsmodels gives R-like statistical output\n",
    "results.summary()\n",
    "# Here the Ordinalry Least Squares method has given us the r^2 value of 0.354 which is poor for model to be predicted on these variables."
   ]
  },
  {
   "cell_type": "markdown",
   "metadata": {},
   "source": [
    "# The Linear regression model gives a low R- square value of 0.219"
   ]
  },
  {
   "cell_type": "markdown",
   "metadata": {
    "collapsed": true
   },
   "source": [
    "## Checking for VIF for eliminating multicollinearity and overfitting"
   ]
  },
  {
   "cell_type": "code",
   "execution_count": 44,
   "metadata": {},
   "outputs": [],
   "source": [
    "#Implementing VIF (Variance Inflation Factor) to check whether the selected independent variables are correct for prediction \n",
    "# or not. Also, 'item_nbr', 'perishable' and 'dcoilwtico' had very close levels of co-relation with price which makes us to investigate whether all \n",
    "# three are important or not.\n",
    "indep=['item_nbr']\n",
    "X=Salesdf[indep]"
   ]
  },
  {
   "cell_type": "code",
   "execution_count": 45,
   "metadata": {},
   "outputs": [
    {
     "data": {
      "text/html": [
       "<div>\n",
       "<style scoped>\n",
       "    .dataframe tbody tr th:only-of-type {\n",
       "        vertical-align: middle;\n",
       "    }\n",
       "\n",
       "    .dataframe tbody tr th {\n",
       "        vertical-align: top;\n",
       "    }\n",
       "\n",
       "    .dataframe thead th {\n",
       "        text-align: right;\n",
       "    }\n",
       "</style>\n",
       "<table border=\"1\" class=\"dataframe\">\n",
       "  <thead>\n",
       "    <tr style=\"text-align: right;\">\n",
       "      <th></th>\n",
       "      <th>date</th>\n",
       "      <th>item_nbr</th>\n",
       "      <th>unit_sales</th>\n",
       "      <th>family</th>\n",
       "    </tr>\n",
       "  </thead>\n",
       "  <tbody>\n",
       "    <tr>\n",
       "      <th>0</th>\n",
       "      <td>2017-07-15</td>\n",
       "      <td>99197</td>\n",
       "      <td>2.0</td>\n",
       "      <td>GROCERY I</td>\n",
       "    </tr>\n",
       "    <tr>\n",
       "      <th>1</th>\n",
       "      <td>2017-07-15</td>\n",
       "      <td>103520</td>\n",
       "      <td>1.0</td>\n",
       "      <td>GROCERY I</td>\n",
       "    </tr>\n",
       "    <tr>\n",
       "      <th>2</th>\n",
       "      <td>2017-07-15</td>\n",
       "      <td>105574</td>\n",
       "      <td>6.0</td>\n",
       "      <td>GROCERY I</td>\n",
       "    </tr>\n",
       "    <tr>\n",
       "      <th>3</th>\n",
       "      <td>2017-07-15</td>\n",
       "      <td>105575</td>\n",
       "      <td>10.0</td>\n",
       "      <td>GROCERY I</td>\n",
       "    </tr>\n",
       "    <tr>\n",
       "      <th>4</th>\n",
       "      <td>2017-07-15</td>\n",
       "      <td>105737</td>\n",
       "      <td>3.0</td>\n",
       "      <td>GROCERY I</td>\n",
       "    </tr>\n",
       "    <tr>\n",
       "      <th>...</th>\n",
       "      <td>...</td>\n",
       "      <td>...</td>\n",
       "      <td>...</td>\n",
       "      <td>...</td>\n",
       "    </tr>\n",
       "    <tr>\n",
       "      <th>3359561</th>\n",
       "      <td>2017-08-15</td>\n",
       "      <td>2089339</td>\n",
       "      <td>4.0</td>\n",
       "      <td>GROCERY I</td>\n",
       "    </tr>\n",
       "    <tr>\n",
       "      <th>3359562</th>\n",
       "      <td>2017-08-15</td>\n",
       "      <td>2106464</td>\n",
       "      <td>1.0</td>\n",
       "      <td>BEVERAGES</td>\n",
       "    </tr>\n",
       "    <tr>\n",
       "      <th>3359563</th>\n",
       "      <td>2017-08-15</td>\n",
       "      <td>2110456</td>\n",
       "      <td>192.0</td>\n",
       "      <td>BEVERAGES</td>\n",
       "    </tr>\n",
       "    <tr>\n",
       "      <th>3359564</th>\n",
       "      <td>2017-08-15</td>\n",
       "      <td>2113914</td>\n",
       "      <td>198.0</td>\n",
       "      <td>CLEANING</td>\n",
       "    </tr>\n",
       "    <tr>\n",
       "      <th>3359565</th>\n",
       "      <td>2017-08-15</td>\n",
       "      <td>2116416</td>\n",
       "      <td>2.0</td>\n",
       "      <td>GROCERY I</td>\n",
       "    </tr>\n",
       "  </tbody>\n",
       "</table>\n",
       "<p>3359566 rows × 4 columns</p>\n",
       "</div>"
      ],
      "text/plain": [
       "               date  item_nbr  unit_sales     family\n",
       "0        2017-07-15     99197         2.0  GROCERY I\n",
       "1        2017-07-15    103520         1.0  GROCERY I\n",
       "2        2017-07-15    105574         6.0  GROCERY I\n",
       "3        2017-07-15    105575        10.0  GROCERY I\n",
       "4        2017-07-15    105737         3.0  GROCERY I\n",
       "...             ...       ...         ...        ...\n",
       "3359561  2017-08-15   2089339         4.0  GROCERY I\n",
       "3359562  2017-08-15   2106464         1.0  BEVERAGES\n",
       "3359563  2017-08-15   2110456       192.0  BEVERAGES\n",
       "3359564  2017-08-15   2113914       198.0   CLEANING\n",
       "3359565  2017-08-15   2116416         2.0  GROCERY I\n",
       "\n",
       "[3359566 rows x 4 columns]"
      ]
     },
     "execution_count": 45,
     "metadata": {},
     "output_type": "execute_result"
    }
   ],
   "source": [
    "Salesdf"
   ]
  },
  {
   "cell_type": "code",
   "execution_count": 48,
   "metadata": {},
   "outputs": [],
   "source": [
    "X=Salesdf[['item_nbr','family']]\n",
    "y=Salesdf[[\"unit_sales\"]]"
   ]
  },
  {
   "cell_type": "markdown",
   "metadata": {},
   "source": [
    "## Cross Validation using Scikit Learn\n",
    "\n",
    "R^2 value is basically dependant on the way the data is split. Hence, there may be times when the R^2 value may not be able to\n",
    "represent the model's ability to generalize. For this we perform cross validation."
   ]
  },
  {
   "cell_type": "code",
   "execution_count": 49,
   "metadata": {
    "scrolled": true
   },
   "outputs": [
    {
     "name": "stdout",
     "output_type": "stream",
     "text": [
      "[0.28633946 0.18162514 0.2108504  0.21535829 0.21947609]\n",
      "0.22272987604751796\n",
      "0.03447267877818303\n"
     ]
    }
   ],
   "source": [
    "reg=linear_model.LinearRegression()\n",
    "cv_results=cross_val_score(reg,X_train,y_train,cv=5)\n",
    "print(cv_results)\n",
    "print(np.mean(cv_results))\n",
    "print(np.std(cv_results))\n",
    "#Using cross validation of score 5"
   ]
  },
  {
   "cell_type": "markdown",
   "metadata": {},
   "source": [
    "## Regularization\n",
    "\n",
    "We perform regularization in order to alter the loss function to penalize it for having higher coefficients for each feature variable. And as we know, large coefficients leads to overfitting."
   ]
  },
  {
   "cell_type": "code",
   "execution_count": 50,
   "metadata": {},
   "outputs": [
    {
     "data": {
      "text/plain": [
       "0.1874972439549862"
      ]
     },
     "execution_count": 50,
     "metadata": {},
     "output_type": "execute_result"
    }
   ],
   "source": [
    "ridge = Ridge(alpha=0.1, normalize = True)\n",
    "ridge.fit(X_train,y_train)\n",
    "ridge_pred=ridge.predict(X_test)\n",
    "ridge.score(X_test,y_test)\n",
    "#The score is pretty much similar to the linear model built which ensures that the model has passed the Ridge regression test\n",
    "# for regularization\n",
    "#Ridge is used to penalize the loss function by adding the OLS loss function to the square of each coefficient multiplied by alpha."
   ]
  },
  {
   "cell_type": "markdown",
   "metadata": {},
   "source": [
    "## 9.b DecisionTree Regressor\n",
    "\n",
    "A decision tree is a decision support tool that uses a tree-like graph or model of decisions and their possible consequences, including chance event outcomes, resource costs, and utility. It is one way to display an algorithm that only contains conditional control statements.\n",
    "\n"
   ]
  },
  {
   "cell_type": "code",
   "execution_count": 51,
   "metadata": {},
   "outputs": [],
   "source": [
    "dtr=DecisionTreeRegressor(max_depth=10,min_samples_leaf=5,max_leaf_nodes=5)"
   ]
  },
  {
   "cell_type": "code",
   "execution_count": 52,
   "metadata": {},
   "outputs": [
    {
     "name": "stdout",
     "output_type": "stream",
     "text": [
      "R2 score =  0.18293760990367458 / 1.0\n",
      "MSE score =  0.0007576048207479044 / 0.0\n"
     ]
    }
   ],
   "source": [
    "dtr.fit(X_train,y_train)\n",
    "y_pred=dtr.predict(X_test)\n",
    "\n",
    "print('R2 score = ',r2_score(y_test, y_pred), '/ 1.0')\n",
    "print('MSE score = ',mean_squared_error(y_test, y_pred), '/ 0.0')\n",
    "\n",
    "##using a decision tree greatly improves the accurancy of model prediction."
   ]
  },
  {
   "cell_type": "markdown",
   "metadata": {},
   "source": [
    "## 9.c. ExtraTreesRegressor"
   ]
  },
  {
   "cell_type": "markdown",
   "metadata": {
    "collapsed": true
   },
   "source": [
    "Extra-trees differ from classic decision trees in the way they are built. When looking for the best split to separate the samples of a node into two groups, random splits are drawn for each of the max_features randomly selected features and the best split among those is chosen."
   ]
  },
  {
   "cell_type": "code",
   "execution_count": 53,
   "metadata": {},
   "outputs": [
    {
     "name": "stdout",
     "output_type": "stream",
     "text": [
      "Fitting 3 folds for each of 54 candidates, totalling 162 fits\n"
     ]
    },
    {
     "name": "stderr",
     "output_type": "stream",
     "text": [
      "[Parallel(n_jobs=-1)]: Using backend LokyBackend with 6 concurrent workers.\n",
      "[Parallel(n_jobs=-1)]: Done  38 tasks      | elapsed:   19.3s\n",
      "[Parallel(n_jobs=-1)]: Done 162 out of 162 | elapsed:   41.0s finished\n"
     ]
    },
    {
     "data": {
      "text/plain": [
       "ExtraTreesRegressor(bootstrap=False, ccp_alpha=0.0, criterion='mse',\n",
       "                    max_depth=15, max_features='auto', max_leaf_nodes=None,\n",
       "                    max_samples=None, min_impurity_decrease=0.0,\n",
       "                    min_impurity_split=None, min_samples_leaf=1,\n",
       "                    min_samples_split=5, min_weight_fraction_leaf=0.0,\n",
       "                    n_estimators=100, n_jobs=None, oob_score=False,\n",
       "                    random_state=None, verbose=0, warm_start=False)"
      ]
     },
     "execution_count": 53,
     "metadata": {},
     "output_type": "execute_result"
    }
   ],
   "source": [
    "etr = ExtraTreesRegressor()\n",
    "\n",
    "# Choose some parameter combinations to try\n",
    "\n",
    "parameters = {'n_estimators': [5,10,100],\n",
    "              'criterion': ['mse'],\n",
    "              'max_depth': [5,10,15], \n",
    "              'min_samples_split': [2,5,10],\n",
    "              'min_samples_leaf': [1,5]\n",
    "             }\n",
    "#We have to use RandomForestRegressor's own scorer (which is R^2 score)\n",
    "\n",
    "#Determines the cross-validation splitting strategy /to specify the number of folds in a (Stratified)KFold\n",
    "\n",
    "grid_obj = GridSearchCV(etr, parameters,\n",
    "                        cv=3, \n",
    "                        n_jobs=-1, #Number of jobs to run in parallel\n",
    "                        verbose=1)\n",
    "grid_obj = grid_obj.fit(X_train, y_train)\n",
    "\n",
    "# Set the clf to the best combination of parameters\n",
    "etr = grid_obj.best_estimator_\n",
    "\n",
    "# Fit the best algorithm to the data. \n",
    "etr.fit(X_train, y_train)"
   ]
  },
  {
   "cell_type": "code",
   "execution_count": 54,
   "metadata": {},
   "outputs": [
    {
     "name": "stdout",
     "output_type": "stream",
     "text": [
      "R2 score =  0.23849422187793212 / 1.0\n",
      "MSE score =  0.0007060910592943192 / 0.0\n"
     ]
    }
   ],
   "source": [
    "y_pred = etr.predict(X_test)\n",
    "\n",
    "print('R2 score = ',r2_score(y_test, y_pred), '/ 1.0')\n",
    "print('MSE score = ',mean_squared_error(y_test, y_pred), '/ 0.0')"
   ]
  },
  {
   "cell_type": "markdown",
   "metadata": {},
   "source": [
    "## 9.d Random Forest Regressor\n",
    "\n",
    "Random forests or random decision forests are an ensemble learning method for classification, regression and other tasks, that operate by constructing a multitude of decision trees at training time and outputting the class that is the mode of the classes (classification) or mean prediction (regression) of the individual trees.Random decision forests correct for decision trees' habit of overfitting to their training set."
   ]
  },
  {
   "cell_type": "code",
   "execution_count": 55,
   "metadata": {},
   "outputs": [
    {
     "name": "stdout",
     "output_type": "stream",
     "text": [
      "Fitting 5 folds for each of 6 candidates, totalling 30 fits\n"
     ]
    },
    {
     "name": "stderr",
     "output_type": "stream",
     "text": [
      "[Parallel(n_jobs=-1)]: Using backend LokyBackend with 6 concurrent workers.\n",
      "[Parallel(n_jobs=-1)]: Done  30 out of  30 | elapsed:    7.6s finished\n"
     ]
    },
    {
     "data": {
      "text/plain": [
       "RandomForestRegressor(bootstrap=True, ccp_alpha=0.0, criterion='mse',\n",
       "                      max_depth=None, max_features='auto', max_leaf_nodes=None,\n",
       "                      max_samples=None, min_impurity_decrease=0.0,\n",
       "                      min_impurity_split=None, min_samples_leaf=5,\n",
       "                      min_samples_split=2, min_weight_fraction_leaf=0.0,\n",
       "                      n_estimators=10, n_jobs=None, oob_score=False,\n",
       "                      random_state=None, verbose=0, warm_start=False)"
      ]
     },
     "execution_count": 55,
     "metadata": {},
     "output_type": "execute_result"
    }
   ],
   "source": [
    "# Choose the type of classifier. \n",
    "RFR = RandomForestRegressor()\n",
    "\n",
    "# Choose some parameter combinations to try\n",
    "parameters = {'n_estimators': [5, 10, 100],\n",
    "              'min_samples_leaf': [1,5]\n",
    "             }\n",
    "\n",
    "\n",
    "#We have to use RandomForestRegressor's own scorer (which is R^2 score)\n",
    "\n",
    "#Determines the cross-validation splitting strategy /to specify the number of folds in a (Stratified)KFold\n",
    "grid_obj = GridSearchCV(RFR, parameters,\n",
    "                        cv=5, \n",
    "                        n_jobs=-1, #Number of jobs to run in parallel\n",
    "                        verbose=1)\n",
    "grid_obj = grid_obj.fit(X_train, y_train)\n",
    "\n",
    "# Set the clf to the best combination of parameters\n",
    "RFR = grid_obj.best_estimator_\n",
    "\n",
    "# Fit the best algorithm to the data. \n",
    "RFR.fit(X_train, y_train)"
   ]
  },
  {
   "cell_type": "code",
   "execution_count": 56,
   "metadata": {},
   "outputs": [
    {
     "name": "stdout",
     "output_type": "stream",
     "text": [
      "R2 score =  0.23782879462948825 / 1.0\n",
      "MSE score =  0.000706708063451393 / 0.0\n"
     ]
    }
   ],
   "source": [
    "y_pred = RFR.predict(X_test)\n",
    "\n",
    "print('R2 score = ',r2_score(y_test, y_pred), '/ 1.0')\n",
    "print('MSE score = ',mean_squared_error(y_test, y_pred), '/ 0.0')"
   ]
  },
  {
   "cell_type": "code",
   "execution_count": 57,
   "metadata": {},
   "outputs": [
    {
     "name": "stdout",
     "output_type": "stream",
     "text": [
      "Fitting 5 folds for each of 54 candidates, totalling 270 fits\n"
     ]
    },
    {
     "name": "stderr",
     "output_type": "stream",
     "text": [
      "[Parallel(n_jobs=-1)]: Using backend LokyBackend with 6 concurrent workers.\n",
      "[Parallel(n_jobs=-1)]: Done  58 tasks      | elapsed:    6.3s\n",
      "[Parallel(n_jobs=-1)]: Done 212 tasks      | elapsed:   32.1s\n",
      "[Parallel(n_jobs=-1)]: Done 270 out of 270 | elapsed:   46.2s finished\n"
     ]
    },
    {
     "data": {
      "text/plain": [
       "RandomForestRegressor(bootstrap=True, ccp_alpha=0.0, criterion='mse',\n",
       "                      max_depth=15, max_features='auto', max_leaf_nodes=None,\n",
       "                      max_samples=None, min_impurity_decrease=0.0,\n",
       "                      min_impurity_split=None, min_samples_leaf=1,\n",
       "                      min_samples_split=10, min_weight_fraction_leaf=0.0,\n",
       "                      n_estimators=100, n_jobs=None, oob_score=False,\n",
       "                      random_state=None, verbose=0, warm_start=False)"
      ]
     },
     "execution_count": 57,
     "metadata": {},
     "output_type": "execute_result"
    }
   ],
   "source": [
    "RFR = RandomForestRegressor()\n",
    "\n",
    "# Choose some parameter combinations to try\n",
    "parameters = {'n_estimators': [5,10,100],\n",
    "              'criterion': ['mse'],\n",
    "              'max_depth': [5,10,15], \n",
    "              'min_samples_split': [2,5,10],\n",
    "              'min_samples_leaf': [1,5]\n",
    "             }\n",
    "\n",
    "\n",
    "#We have to use RandomForestRegressor's own scorer (which is R^2 score)\n",
    "\n",
    "#Determines the cross-validation splitting strategy /to specify the number of folds in a (Stratified)KFold\n",
    "grid_obj = GridSearchCV(RFR, parameters,\n",
    "                        cv=5, \n",
    "                        n_jobs=-1, #Number of jobs to run in parallel\n",
    "                        verbose=1)\n",
    "grid_obj = grid_obj.fit(X_train, y_train)\n",
    "\n",
    "# Set the clf to the best combination of parameters\n",
    "RFR = grid_obj.best_estimator_\n",
    "\n",
    "# Fit the best algorithm to the data. \n",
    "RFR.fit(X_train, y_train)"
   ]
  },
  {
   "cell_type": "code",
   "execution_count": 58,
   "metadata": {},
   "outputs": [
    {
     "name": "stdout",
     "output_type": "stream",
     "text": [
      "R2 score =  0.23928139128515824 / 1.0\n",
      "MSE score =  0.0007053611721463017 / 0.0\n"
     ]
    }
   ],
   "source": [
    "y_pred = RFR.predict(X_test)\n",
    "\n",
    "print('R2 score = ',r2_score(y_test, y_pred), '/ 1.0')\n",
    "print('MSE score = ',mean_squared_error(y_test, y_pred), '/ 0.0')"
   ]
  },
  {
   "cell_type": "markdown",
   "metadata": {},
   "source": [
    "## 9.e. Gradient Boosting Regressor\n",
    "\n",
    "The idea of boosting came out of the idea of whether a weak learner can be modified to become better.\n",
    "A weak hypothesis or weak learner is defined as one whose performance is at least slightly better than random chance.\n",
    "Hypothesis boosting was the idea of filtering observations, leaving those observations that the weak learner can handle and focusing on developing new weak learns to handle the remaining difficult observations.\n",
    "\n",
    "## How Gradient Boosting Works\n",
    "\n",
    "Gradient boosting involves three elements:\n",
    "\n",
    "-- A loss function to be optimized.\n",
    "\n",
    "-- A weak learner to make predictions.\n",
    "\n",
    "-- An additive model to add weak learners to minimize the loss function."
   ]
  },
  {
   "cell_type": "code",
   "execution_count": 59,
   "metadata": {},
   "outputs": [
    {
     "name": "stdout",
     "output_type": "stream",
     "text": [
      "Fitting 5 folds for each of 16 candidates, totalling 80 fits\n"
     ]
    },
    {
     "name": "stderr",
     "output_type": "stream",
     "text": [
      "[Parallel(n_jobs=-1)]: Using backend LokyBackend with 6 concurrent workers.\n",
      "[Parallel(n_jobs=-1)]: Done  64 tasks      | elapsed:    3.8s\n",
      "[Parallel(n_jobs=-1)]: Done  69 out of  80 | elapsed:    4.0s remaining:    0.6s\n",
      "[Parallel(n_jobs=-1)]: Done  80 out of  80 | elapsed:    4.8s finished\n"
     ]
    },
    {
     "data": {
      "text/plain": [
       "GradientBoostingRegressor(alpha=0.9, ccp_alpha=0.0, criterion='mse', init=None,\n",
       "                          learning_rate=0.1, loss='huber', max_depth=10,\n",
       "                          max_features=None, max_leaf_nodes=None,\n",
       "                          min_impurity_decrease=0.0, min_impurity_split=None,\n",
       "                          min_samples_leaf=1, min_samples_split=2,\n",
       "                          min_weight_fraction_leaf=0.0, n_estimators=10,\n",
       "                          n_iter_no_change=None, presort='deprecated',\n",
       "                          random_state=None, subsample=1.0, tol=0.0001,\n",
       "                          validation_fraction=0.1, verbose=0, warm_start=False)"
      ]
     },
     "execution_count": 59,
     "metadata": {},
     "output_type": "execute_result"
    }
   ],
   "source": [
    "#gbr = GradientBoostingRegressor(loss='huber',learning_rate=0.3,n_estimators=100,max_depth=5,min_samples_split=3)\n",
    "gbr=GradientBoostingRegressor()\n",
    "\n",
    "parameters = {'n_estimators': [5,10],\n",
    "              'loss':['huber'],\n",
    "              'criterion': ['mse'],\n",
    "              'max_depth': [5,10], \n",
    "              'min_samples_split': [2,5],\n",
    "              'min_samples_leaf': [1,5]\n",
    "             }\n",
    "\n",
    "#Determines the cross-validation splitting strategy /to specify the number of folds in a (Stratified)KFold\n",
    "grid_obj = GridSearchCV(gbr, parameters,\n",
    "                        cv=5, \n",
    "                        n_jobs=-1, #Number of jobs to run in parallel\n",
    "                        verbose=1)\n",
    "grid_obj = grid_obj.fit(X_train, y_train)\n",
    "\n",
    "# Set the clf to the best combination of parameters\n",
    "gbr = grid_obj.best_estimator_\n",
    "\n",
    "# Fit the best algorithm to the data. \n",
    "gbr.fit(X_train, y_train)"
   ]
  },
  {
   "cell_type": "code",
   "execution_count": 60,
   "metadata": {},
   "outputs": [
    {
     "name": "stdout",
     "output_type": "stream",
     "text": [
      "R2 score using Gradient Boosting=  0.1081191650790353 / 1.0\n",
      "MSE score using Gradient Boosting=  0.0008269787329081806 / 0.0\n"
     ]
    }
   ],
   "source": [
    "y_pred = gbr.predict(X_test)\n",
    "\n",
    "print('R2 score using Gradient Boosting= ',r2_score(y_test, y_pred), '/ 1.0')\n",
    "print('MSE score using Gradient Boosting= ',mean_squared_error(y_test, y_pred), '/ 0.0')"
   ]
  },
  {
   "cell_type": "code",
   "execution_count": 61,
   "metadata": {},
   "outputs": [
    {
     "name": "stdout",
     "output_type": "stream",
     "text": [
      "Fitting 5 folds for each of 48 candidates, totalling 240 fits\n"
     ]
    },
    {
     "name": "stderr",
     "output_type": "stream",
     "text": [
      "[Parallel(n_jobs=-1)]: Using backend LokyBackend with 6 concurrent workers.\n",
      "[Parallel(n_jobs=-1)]: Done  38 tasks      | elapsed:   12.4s\n",
      "[Parallel(n_jobs=-1)]: Done 188 tasks      | elapsed:  1.4min\n",
      "[Parallel(n_jobs=-1)]: Done 240 out of 240 | elapsed:  2.1min finished\n"
     ]
    },
    {
     "data": {
      "text/plain": [
       "GradientBoostingRegressor(alpha=0.9, ccp_alpha=0.0, criterion='mse', init=None,\n",
       "                          learning_rate=0.1, loss='ls', max_depth=10,\n",
       "                          max_features=None, max_leaf_nodes=None,\n",
       "                          min_impurity_decrease=0.0, min_impurity_split=None,\n",
       "                          min_samples_leaf=5, min_samples_split=2,\n",
       "                          min_weight_fraction_leaf=0.0, n_estimators=150,\n",
       "                          n_iter_no_change=None, presort='deprecated',\n",
       "                          random_state=None, subsample=1.0, tol=0.0001,\n",
       "                          validation_fraction=0.1, verbose=0, warm_start=False)"
      ]
     },
     "execution_count": 61,
     "metadata": {},
     "output_type": "execute_result"
    }
   ],
   "source": [
    "gbr = GradientBoostingRegressor(loss='ls',learning_rate=0.1,n_estimators=150,max_depth=10,min_samples_split=5)\n",
    "\n",
    "\n",
    "parameters = {'n_estimators': [5,15,150],\n",
    "              'loss':['ls','huber'],\n",
    "              'criterion': ['mse'],\n",
    "              'max_depth': [10,15], \n",
    "              'min_samples_split': [2,5],\n",
    "              'min_samples_leaf': [1,5]\n",
    "             }\n",
    "\n",
    "#Determines the cross-validation splitting strategy /to specify the number of folds in a (Stratified)KFold\n",
    "grid_obj = GridSearchCV(gbr, parameters,\n",
    "                        cv=5, \n",
    "                        n_jobs=-1, #Number of jobs to run in parallel\n",
    "                        verbose=1)\n",
    "grid_obj = grid_obj.fit(X_train, y_train)\n",
    "\n",
    "# Set the clf to the best combination of parameters\n",
    "gbr = grid_obj.best_estimator_\n",
    "\n",
    "# Fit the best algorithm to the data. \n",
    "gbr.fit(X_train, y_train)"
   ]
  },
  {
   "cell_type": "code",
   "execution_count": 62,
   "metadata": {},
   "outputs": [
    {
     "name": "stdout",
     "output_type": "stream",
     "text": [
      "R2 score using Gradient Boosting=  0.23928139128515824 / 1.0\n",
      "MSE score using Gradient Boosting=  0.0007053611721463017 / 0.0\n"
     ]
    }
   ],
   "source": [
    "y_pred = RFR.predict(X_test)\n",
    "\n",
    "print('R2 score using Gradient Boosting= ',r2_score(y_test, y_pred), '/ 1.0')\n",
    "print('MSE score using Gradient Boosting= ',mean_squared_error(y_test, y_pred), '/ 0.0')"
   ]
  },
  {
   "cell_type": "markdown",
   "metadata": {},
   "source": [
    "## 9.f. XGBOOST\n",
    "\n",
    "XGBoost (eXtreme Gradient Boosting) is a direct application of Gradient Boosting for decision trees\n",
    "\n",
    "Main advantages are as follows:\n",
    "1. Easy to use\n",
    "2. Computational efficiency\n",
    "3. Model Accuracy\n",
    "4. Feasibility — easy to tune parameters and modify objectives."
   ]
  },
  {
   "cell_type": "code",
   "execution_count": 63,
   "metadata": {},
   "outputs": [],
   "source": [
    "model=XGBRegressor(max_depth=5)"
   ]
  },
  {
   "cell_type": "code",
   "execution_count": 64,
   "metadata": {},
   "outputs": [
    {
     "name": "stderr",
     "output_type": "stream",
     "text": [
      "c:\\users\\user\\appdata\\local\\programs\\python\\python37\\lib\\site-packages\\xgboost\\core.py:587: FutureWarning: Series.base is deprecated and will be removed in a future version\n",
      "  if getattr(data, 'base', None) is not None and \\\n"
     ]
    },
    {
     "name": "stdout",
     "output_type": "stream",
     "text": [
      "[17:40:50] WARNING: C:/Jenkins/workspace/xgboost-win64_release_0.90/src/objective/regression_obj.cu:152: reg:linear is now deprecated in favor of reg:squarederror.\n"
     ]
    },
    {
     "data": {
      "text/plain": [
       "XGBRegressor(base_score=0.5, booster='gbtree', colsample_bylevel=1,\n",
       "             colsample_bynode=1, colsample_bytree=1, gamma=0,\n",
       "             importance_type='gain', learning_rate=0.1, max_delta_step=0,\n",
       "             max_depth=5, min_child_weight=1, missing=None, n_estimators=100,\n",
       "             n_jobs=1, nthread=None, objective='reg:linear', random_state=0,\n",
       "             reg_alpha=0, reg_lambda=1, scale_pos_weight=1, seed=None,\n",
       "             silent=None, subsample=1, verbosity=1)"
      ]
     },
     "execution_count": 64,
     "metadata": {},
     "output_type": "execute_result"
    }
   ],
   "source": [
    "model.fit(X_train,y_train)"
   ]
  },
  {
   "cell_type": "code",
   "execution_count": 65,
   "metadata": {},
   "outputs": [],
   "source": [
    "y_pred=model.predict(X_test)"
   ]
  },
  {
   "cell_type": "code",
   "execution_count": 66,
   "metadata": {},
   "outputs": [
    {
     "name": "stdout",
     "output_type": "stream",
     "text": [
      "R2 score using XG Boost=  0.23708236773945168 / 1.0\n",
      "MSE score using XG Boost=  0.0007074001729121661 / 0.0\n"
     ]
    }
   ],
   "source": [
    "print('R2 score using XG Boost= ',r2_score(y_test, y_pred), '/ 1.0')\n",
    "print('MSE score using XG Boost= ',mean_squared_error(y_test, y_pred), '/ 0.0')"
   ]
  },
  {
   "cell_type": "markdown",
   "metadata": {},
   "source": [
    "## 10. LGBM\n",
    "\n",
    "Light GBM is a fast, distributed, high-performance gradient boosting framework based on decision tree algorithm, used for ranking, classification and many other machine learning tasks.\n",
    "\n",
    "Since it is based on decision tree algorithms, it splits the tree leaf wise with the best fit whereas other boosting algorithms split the tree depth wise or level wise rather than leaf-wise. So when growing on the same leaf in Light GBM, the leaf-wise algorithm can reduce more loss than the level-wise algorithm and hence results in much better accuracy which can rarely be achieved by any of the existing boosting algorithms. "
   ]
  },
  {
   "cell_type": "code",
   "execution_count": 67,
   "metadata": {},
   "outputs": [
    {
     "data": {
      "text/plain": [
       "LGBMRegressor(boosting_type='gbdt', class_weight=None, colsample_bytree=1.0,\n",
       "              importance_type='split', learning_rate=0.1, max_depth=5,\n",
       "              min_child_samples=20, min_child_weight=0.001, min_split_gain=0.0,\n",
       "              n_estimators=100, n_jobs=-1, num_leaves=31, objective=None,\n",
       "              random_state=None, reg_alpha=0.0, reg_lambda=0.0, silent=True,\n",
       "              subsample=1.0, subsample_for_bin=200000, subsample_freq=0)"
      ]
     },
     "execution_count": 67,
     "metadata": {},
     "output_type": "execute_result"
    }
   ],
   "source": [
    "\n",
    "from lightgbm import LGBMRegressor\n",
    "lgbm=LGBMRegressor(max_depth=5)\n",
    "lgbm.fit(X_train,y_train)\n"
   ]
  },
  {
   "cell_type": "code",
   "execution_count": 68,
   "metadata": {},
   "outputs": [],
   "source": [
    "y_pred=lgbm.predict(X_test)"
   ]
  },
  {
   "cell_type": "code",
   "execution_count": 69,
   "metadata": {},
   "outputs": [
    {
     "name": "stdout",
     "output_type": "stream",
     "text": [
      "R2 score using LGBM =  0.23807252158302628 / 1.0\n",
      "MSE score using LGBM =  0.0007064820724901337 / 0.0\n"
     ]
    }
   ],
   "source": [
    "print('R2 score using LGBM = ',r2_score(y_test, y_pred), '/ 1.0')\n",
    "print('MSE score using LGBM = ',mean_squared_error(y_test, y_pred), '/ 0.0')"
   ]
  },
  {
   "cell_type": "code",
   "execution_count": 70,
   "metadata": {},
   "outputs": [
    {
     "data": {
      "text/html": [
       "<div>\n",
       "<style scoped>\n",
       "    .dataframe tbody tr th:only-of-type {\n",
       "        vertical-align: middle;\n",
       "    }\n",
       "\n",
       "    .dataframe tbody tr th {\n",
       "        vertical-align: top;\n",
       "    }\n",
       "\n",
       "    .dataframe thead th {\n",
       "        text-align: right;\n",
       "    }\n",
       "</style>\n",
       "<table border=\"1\" class=\"dataframe\">\n",
       "  <thead>\n",
       "    <tr style=\"text-align: right;\">\n",
       "      <th></th>\n",
       "      <th>item_nbr</th>\n",
       "      <th>unit_sales</th>\n",
       "    </tr>\n",
       "  </thead>\n",
       "  <tbody>\n",
       "    <tr>\n",
       "      <th>item_nbr</th>\n",
       "      <td>1.000000</td>\n",
       "      <td>0.024456</td>\n",
       "    </tr>\n",
       "    <tr>\n",
       "      <th>unit_sales</th>\n",
       "      <td>0.024456</td>\n",
       "      <td>1.000000</td>\n",
       "    </tr>\n",
       "  </tbody>\n",
       "</table>\n",
       "</div>"
      ],
      "text/plain": [
       "            item_nbr  unit_sales\n",
       "item_nbr    1.000000    0.024456\n",
       "unit_sales  0.024456    1.000000"
      ]
     },
     "execution_count": 70,
     "metadata": {},
     "output_type": "execute_result"
    }
   ],
   "source": [
    "Salesdf.corr()\n"
   ]
  },
  {
   "cell_type": "markdown",
   "metadata": {},
   "source": [
    "## 11. Creating a neural network\n",
    "\n",
    "Multi-layer Perceptron (MLP) is a supervised learning algorithm that learns a function  by training on a dataset, where  is the number of dimensions for input and  is the number of dimensions for output.\n",
    "\n",
    "The advantages of Multi-layer Perceptron are:\n",
    "\n",
    "-- Capability to learn non-linear models.\n",
    "\n",
    "-- Capability to learn models in real-time (on-line learning) using partial_fit."
   ]
  },
  {
   "cell_type": "code",
   "execution_count": 71,
   "metadata": {},
   "outputs": [
    {
     "name": "stdout",
     "output_type": "stream",
     "text": [
      "[[0 0 1 0 0 0 0 0 0 0 0 0 0 1 0 0 0 0 0 0 0 0 0 0 0 0 1 0 0 0 0 1 0 0]\n",
      " [0 0 1 0 0 0 0 0 0 0 0 0 0 1 0 0 0 0 0 0 0 0 0 0 0 0 1 0 0 0 0 0 0 1]\n",
      " [0 0 0 1 0 1 0 0 0 0 0 0 0 0 0 0 0 0 0 0 0 0 0 0 0 1 0 0 0 0 0 0 1 0]\n",
      " [1 0 0 0 0 0 0 0 0 0 0 0 0 0 0 0 0 0 0 0 1 0 0 0 0 1 0 0 0 1 0 0 0 0]\n",
      " [0 0 0 1 0 1 0 0 0 0 0 0 0 0 0 0 0 0 0 0 0 0 0 0 0 1 0 0 0 1 0 0 0 0]\n",
      " [1 0 0 0 0 0 0 0 0 0 0 0 0 0 0 0 0 0 0 1 0 0 0 0 0 0 1 0 1 0 0 0 0 0]\n",
      " [1 0 0 0 0 0 0 0 0 0 0 0 0 0 0 0 0 0 0 0 0 0 1 0 0 0 1 0 0 0 0 1 0 0]\n",
      " [1 0 0 0 0 0 0 0 0 0 0 0 0 0 0 0 0 0 0 0 0 0 0 1 0 0 1 0 0 0 0 0 0 1]\n",
      " [0 0 0 1 0 0 0 0 0 1 0 0 0 0 0 0 0 0 0 0 0 0 0 0 0 0 1 0 0 0 0 0 1 0]\n",
      " [0 0 0 0 1 0 0 0 0 0 0 0 0 0 0 0 0 0 0 0 0 0 0 0 1 0 1 1 0 0 0 0 0 0]]\n",
      "[[0.02301255]\n",
      " [0.01046025]\n",
      " [0.00679916]\n",
      " [0.01202929]\n",
      " [0.0083682 ]\n",
      " [0.00889121]\n",
      " [0.02196653]\n",
      " [0.01464435]\n",
      " [0.00627615]\n",
      " [0.00941423]]\n"
     ]
    }
   ],
   "source": [
    "# Convert data as np.array\n",
    "features = np.array(X_train)\n",
    "#targets = np.array(y_train.reshape(y_train.shape[0],1))\n",
    "targets = np.array(y_train.values.reshape(y_train.shape[0],1))\n",
    "features_validation= np.array(X_test)\n",
    "#targets_validation = np.array(y_test.reshape(y_test.shape[0],1))\n",
    "targets_validation = np.array(y_test.values.reshape(y_test.shape[0],1))\n",
    "\n",
    "print(features[:10])\n",
    "print(targets[:10])"
   ]
  },
  {
   "cell_type": "code",
   "execution_count": 72,
   "metadata": {},
   "outputs": [
    {
     "name": "stdout",
     "output_type": "stream",
     "text": [
      "Model: \"sequential_1\"\n",
      "_________________________________________________________________\n",
      "Layer (type)                 Output Shape              Param #   \n",
      "=================================================================\n",
      "dense_1 (Dense)              (None, 32)                1120      \n",
      "_________________________________________________________________\n",
      "dropout_1 (Dropout)          (None, 32)                0         \n",
      "_________________________________________________________________\n",
      "dense_2 (Dense)              (None, 16)                528       \n",
      "_________________________________________________________________\n",
      "dropout_2 (Dropout)          (None, 16)                0         \n",
      "_________________________________________________________________\n",
      "dense_3 (Dense)              (None, 1)                 17        \n",
      "=================================================================\n",
      "Total params: 1,665\n",
      "Trainable params: 1,665\n",
      "Non-trainable params: 0\n",
      "_________________________________________________________________\n"
     ]
    }
   ],
   "source": [
    "# Building the model\n",
    "model = Sequential()\n",
    "model.add(Dense(32, activation='relu', input_shape=(X_train.shape[1],)))\n",
    "model.add(Dropout(.2))\n",
    "model.add(Dense(16, activation='relu'))\n",
    "model.add(Dropout(.1))\n",
    "model.add(Dense(1))\n",
    "\n",
    "# Compiling the model\n",
    "model.compile(loss = 'mse', optimizer='adam', metrics=['mse']) #mse: mean_square_error\n",
    "model.summary()"
   ]
  },
  {
   "cell_type": "code",
   "execution_count": 73,
   "metadata": {},
   "outputs": [
    {
     "name": "stdout",
     "output_type": "stream",
     "text": [
      "Step :  0 / 1000\n",
      "27365/27365 [==============================] - 0s 11us/step\n",
      "Training MSE: 0.0005626619677059352\n",
      "6842/6842 [==============================] - 0s 10us/step\n",
      "Validation MSE: 0.0007272682269103825 \n",
      "\n",
      "Step :  250 / 1000\n",
      "27365/27365 [==============================] - 0s 9us/step\n",
      "Training MSE: 0.0005528208566829562\n",
      "6842/6842 [==============================] - 0s 9us/step\n",
      "Validation MSE: 0.000706100428942591 \n",
      "\n",
      "Step :  500 / 1000\n",
      "27365/27365 [==============================] - 0s 9us/step\n",
      "Training MSE: 0.0005639371811412275\n",
      "6842/6842 [==============================] - 0s 10us/step\n",
      "Validation MSE: 0.0007303226739168167 \n",
      "\n",
      "Step :  750 / 1000\n",
      "27365/27365 [==============================] - 0s 11us/step\n",
      "Training MSE: 0.000556175597012043\n",
      "6842/6842 [==============================] - 0s 15us/step\n",
      "Validation MSE: 0.0007121972157619894 \n",
      "\n"
     ]
    },
    {
     "data": {
      "image/png": "[encoded data removed]",
      "text/plain": [
       "<Figure size 432x288 with 1 Axes>"
      ]
     },
     "metadata": {
      "needs_background": "light"
     },
     "output_type": "display_data"
    }
   ],
   "source": [
    "# Training the model\n",
    "epochs_tot = 1000\n",
    "epochs_step = 250\n",
    "epochs_ratio = int(epochs_tot / epochs_step)\n",
    "hist =np.array([])\n",
    "\n",
    "for i in range(epochs_ratio):\n",
    "    history = model.fit(features, targets, epochs=epochs_step, batch_size=100, verbose=0)\n",
    "    \n",
    "    # Evaluating the model on the training and testing set\n",
    "    print(\"Step : \" , i * epochs_step, \"/\", epochs_tot)\n",
    "    score = model.evaluate(features, targets)\n",
    "    print(\"Training MSE:\", score[1])\n",
    "    score = model.evaluate(features_validation, targets_validation)\n",
    "    print(\"Validation MSE:\", score[1], \"\\n\")\n",
    "    hist = np.concatenate((hist, np.array(history.history['mse'])), axis = 0)#mse: mean_square_error\n",
    "    \n",
    "# plot metrics\n",
    "plt.plot(hist)\n",
    "plt.show()"
   ]
  },
  {
   "cell_type": "code",
   "execution_count": 74,
   "metadata": {},
   "outputs": [
    {
     "name": "stdout",
     "output_type": "stream",
     "text": [
      "R2 score =  0.2319089168516173 / 1.0\n",
      "MSE score =  0.0007121971521637308 / 0.0\n"
     ]
    }
   ],
   "source": [
    "y_pred = model.predict(features_validation, verbose=0)\n",
    "\n",
    "print('R2 score = ',r2_score(y_test, y_pred), '/ 1.0')\n",
    "print('MSE score = ',mean_squared_error(y_test, y_pred), '/ 0.0')"
   ]
  },
  {
   "cell_type": "code",
   "execution_count": 75,
   "metadata": {},
   "outputs": [
    {
     "name": "stderr",
     "output_type": "stream",
     "text": [
      "c:\\users\\user\\appdata\\local\\programs\\python\\python37\\lib\\site-packages\\ipykernel_launcher.py:2: FutureWarning: Method .as_matrix will be removed in a future version. Use .values instead.\n",
      "  \n"
     ]
    },
    {
     "data": {
      "image/png": "[encoded data removed]",
      "text/plain": [
       "<Figure size 432x288 with 1 Axes>"
      ]
     },
     "metadata": {
      "needs_background": "light"
     },
     "output_type": "display_data"
    }
   ],
   "source": [
    "#Lets plot the  first 50 predictions\n",
    "plt.plot(y_test.as_matrix()[0:50], '+', color ='blue', alpha=0.7)\n",
    "plt.plot(y_pred[0:50], 'ro', color ='red', alpha=0.5)\n",
    "plt.show()"
   ]
  }
 ],
 "metadata": {
  "kernelspec": {
   "display_name": "Python 3",
   "language": "python",
   "name": "python3"
  },
  "language_info": {
   "codemirror_mode": {
    "name": "ipython",
    "version": 3
   },
   "file_extension": ".py",
   "mimetype": "text/x-python",
   "name": "python",
   "nbconvert_exporter": "python",
   "pygments_lexer": "ipython3",
   "version": "3.7.5"
  }
 },
 "nbformat": 4,
 "nbformat_minor": 2
}
